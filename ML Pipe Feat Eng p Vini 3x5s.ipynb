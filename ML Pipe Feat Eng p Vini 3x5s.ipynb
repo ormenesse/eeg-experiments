{
 "cells": [
  {
   "cell_type": "code",
   "execution_count": 1,
   "metadata": {
    "scrolled": true
   },
   "outputs": [],
   "source": [
    "import os\n",
    "import time\n",
    "import numpy as np\n",
    "import pandas as pd\n",
    "import lightgbm as lgb\n",
    "\n",
    "from sklearn.metrics import roc_auc_score, accuracy_score, confusion_matrix\n",
    "from sklearn.model_selection import validation_curve, train_test_split\n",
    "\n",
    "from tqdm.notebook import tqdm\n",
    "import matplotlib.pyplot as plt\n",
    "\n",
    "%matplotlib inline"
   ]
  },
  {
   "cell_type": "code",
   "execution_count": 2,
   "metadata": {},
   "outputs": [],
   "source": [
    "import pandas as pd\n",
    "import matplotlib.pyplot as plt\n",
    "import gc\n",
    "import scipy\n",
    "from scipy import signal\n",
    "from scipy.signal import butter, lfilter, freqz, stft\n",
    "from scipy.fft import fft\n",
    "import numpy as np\n",
    "import pickle\n",
    "import tensorflow as tf\n",
    "from sklearn.metrics import accuracy_score, confusion_matrix, matthews_corrcoef, roc_auc_score, roc_curve "
   ]
  },
  {
   "cell_type": "code",
   "execution_count": 3,
   "metadata": {},
   "outputs": [],
   "source": [
    "def cria_curva_roc_auc(modelo,df_verificacao,df_target):\n",
    "    predictions = modelo.predict(df_verificacao)\n",
    "    fpr, tpr, threshold = roc_curve(df_target, predictions[:,1])\n",
    "    plt.figure(figsize=(8,8))\n",
    "    lw = 2\n",
    "    plt.plot(fpr, tpr, color='darkorange',lw=lw, label='ROC curve (area = %0.2f)' % roc_auc_score(df_target, predictions[:,1]))\n",
    "    plt.plot([0, 1], [0, 1], color='navy', lw=lw, linestyle='--')\n",
    "    plt.xlim([0.0, 1.0])\n",
    "    plt.ylim([0.0, 1.05])\n",
    "    plt.xlabel('False Positive Rate')\n",
    "    plt.ylabel('True Positive Rate')\n",
    "    plt.title('Receiver operating characteristic REAIS')\n",
    "    plt.legend(loc=\"lower right\")\n",
    "    plt.show()\n",
    "    \n",
    "def limiar_escore(modelo,df_verificacao,df_target):\n",
    "    #Imprimindo limiar de Escore\n",
    "    predictions = modelo.predict(df_verificacao)\n",
    "    fpr, tpr, threshold = roc_curve(df_target, predictions[:,1])\n",
    "    i = np.arange(len(tpr)) \n",
    "    roc = pd.DataFrame({'tf' : pd.Series(tpr-(1-fpr), index=i), 'threshold' : pd.Series(threshold, index=i)})\n",
    "    roc_t = roc.loc[(roc.tf-0).abs().argsort()[:1]]\n",
    "    print('Limiar que maxima especificidade e sensitividade:')\n",
    "    print(list(roc_t['threshold']))\n",
    "    #analisando modelo com novo limiar\n",
    "    tn, fp, fn, tp = confusion_matrix(df_target, [1 if item>=list(roc_t['threshold'])[0] else 0 for item in predictions[:,1]]).ravel()\n",
    "    Precision = tp/(tp+fp)\n",
    "    Recall = tp/(tp+fn)\n",
    "    acuracia = (tp+tn)/(tn+fp+fn+tp)\n",
    "    F = (2*Precision*Recall)/(Precision+Recall)\n",
    "    print('Precision',Precision)\n",
    "    print('Recall',Recall)\n",
    "    print('Acuracia',acuracia)\n",
    "    print('F-Score',F)\n",
    "    print('Roc-AUC', roc_auc_score(df_target, predictions[:,1]))"
   ]
  },
  {
   "cell_type": "markdown",
   "metadata": {},
   "source": [
    "# Functions"
   ]
  },
  {
   "cell_type": "code",
   "execution_count": 4,
   "metadata": {},
   "outputs": [],
   "source": [
    "def plot_eeg(df, name='', save=False):\n",
    "    fig, rows = plt.subplots(nrows=4, sharex=True, figsize=(17,10))\n",
    "    fig.patch.set_visible(False)\n",
    "    fig.tight_layout()\n",
    "\n",
    "    for ax, col in zip(rows, df.columns):\n",
    "        ax.plot(df[col])\n",
    "        ax.title.set_text(col + \"_\" + name)\n",
    "        ax.set_ylim(-150, 150)\n",
    "        ax.patch.set_visible(False)\n",
    "        \n",
    "    if not save:\n",
    "        plt.show()\n",
    "    else:\n",
    "        plt.savefig(f'figs/{name}.png')\n",
    "        plt.close(fig)"
   ]
  },
  {
   "cell_type": "code",
   "execution_count": 5,
   "metadata": {},
   "outputs": [],
   "source": [
    "def coluniza(a, nome):\n",
    "    d = pd.DataFrame(a).T\n",
    "    d.columns = [nome + \"_\" + str(col) for col in d.columns]\n",
    "    return d"
   ]
  },
  {
   "cell_type": "code",
   "execution_count": 6,
   "metadata": {},
   "outputs": [],
   "source": [
    "def save_to_file(objeto, nome_arquivo):\n",
    "    with open(nome_arquivo, 'wb') as output:\n",
    "        pickle.dump(objeto, output, pickle.HIGHEST_PROTOCOL)\n",
    "\n",
    "\n",
    "def load_file(nome_arquivo):\n",
    "    with open(nome_arquivo, 'rb') as input:\n",
    "        objeto = pickle.load(input)\n",
    "    return objeto"
   ]
  },
  {
   "cell_type": "code",
   "execution_count": 7,
   "metadata": {},
   "outputs": [],
   "source": [
    "def butter_bandpass(lowcut, highcut, fs, order=5):\n",
    "    nyq = 0.5 * fs\n",
    "    low = lowcut / nyq\n",
    "    high = highcut / nyq\n",
    "    b, a = butter(order, [low, high], btype='band')\n",
    "    return b, a\n",
    "\n",
    "def butter_bandpass_filter(data, lowcut, highcut, fs, order=5):\n",
    "    b, a = butter_bandpass(lowcut, highcut, fs, order=order)\n",
    "    y = lfilter(b, a, data)\n",
    "    return y"
   ]
  },
  {
   "cell_type": "code",
   "execution_count": 8,
   "metadata": {},
   "outputs": [],
   "source": [
    "folder = '../Data'"
   ]
  },
  {
   "cell_type": "code",
   "execution_count": 9,
   "metadata": {},
   "outputs": [
    {
     "name": "stdout",
     "output_type": "stream",
     "text": [
      "Full_Positives_7nov.hdf\n",
      "Full_Negatives_7nov0.hdf\n",
      "Full_Negatives_7nov2.hdf\n",
      "Full_Negatives_7nov1.hdf\n",
      "CPU times: user 19 s, sys: 21.3 s, total: 40.3 s\n",
      "Wall time: 2min 18s\n"
     ]
    }
   ],
   "source": [
    "%%time\n",
    "chunks = []\n",
    "for f in os.listdir(folder):\n",
    "    print(f)\n",
    "    if 'Full_Negatives_7nov' in f:\n",
    "        chunk = pd.read_hdf(os.path.join(folder, f))\n",
    "        chunks.append(chunk)\n",
    "neg = pd.concat(chunks, axis=0)"
   ]
  },
  {
   "cell_type": "code",
   "execution_count": 10,
   "metadata": {},
   "outputs": [],
   "source": [
    "#Esqueci do target 0 rs\n",
    "neg['Target'] = 0"
   ]
  },
  {
   "cell_type": "code",
   "execution_count": 11,
   "metadata": {},
   "outputs": [],
   "source": [
    "pos = pd.read_hdf(os.path.join(folder, \"Full_Positives_7nov.hdf\"))"
   ]
  },
  {
   "cell_type": "code",
   "execution_count": 12,
   "metadata": {},
   "outputs": [
    {
     "data": {
      "text/plain": [
       "((1540, 5), (30000, 5))"
      ]
     },
     "execution_count": 12,
     "metadata": {},
     "output_type": "execute_result"
    }
   ],
   "source": [
    "pos.shape, neg.shape"
   ]
  },
  {
   "cell_type": "code",
   "execution_count": 13,
   "metadata": {},
   "outputs": [],
   "source": [
    "#junta em um df\n",
    "df = pd.concat([neg, pos]).reset_index(drop=True)"
   ]
  },
  {
   "cell_type": "code",
   "execution_count": 14,
   "metadata": {},
   "outputs": [
    {
     "data": {
      "text/plain": [
       "0    30000\n",
       "1     1540\n",
       "Name: Target, dtype: int64"
      ]
     },
     "execution_count": 14,
     "metadata": {},
     "output_type": "execute_result"
    }
   ],
   "source": [
    "df['Target'].value_counts(dropna=False)"
   ]
  },
  {
   "cell_type": "code",
   "execution_count": 15,
   "metadata": {},
   "outputs": [
    {
     "data": {
      "text/plain": [
       "fabiana_1.edf           646\n",
       "gilmara_cristina.edf    357\n",
       "murilo_1.edf            211\n",
       "remise_jean.edf          94\n",
       "danila_ramos_4.edf       85\n",
       "sarah_jadach.edf         84\n",
       "danila_ramos.edf         56\n",
       "juliana_lima_1.edf        5\n",
       "juliana_lima_2.edf        1\n",
       "marilene.edf              1\n",
       "Name: File, dtype: int64"
      ]
     },
     "execution_count": 15,
     "metadata": {},
     "output_type": "execute_result"
    }
   ],
   "source": [
    "#janelas de crise (alguns bebes tem muito pouco, não são usados para validar)\n",
    "pos['File'].value_counts()"
   ]
  },
  {
   "cell_type": "code",
   "execution_count": 16,
   "metadata": {},
   "outputs": [
    {
     "data": {
      "text/plain": [
       "murilo_1.edf            11234\n",
       "danila_ramos_5.edf       5550\n",
       "danila_ramos_4.edf       3755\n",
       "marilene.edf             2946\n",
       "remise_jean.edf          2911\n",
       "juliana_lima_2.edf       1945\n",
       "fabiana_1.edf            1120\n",
       "gilmara_cristina.edf      784\n",
       "danila_ramos.edf          657\n",
       "juliana_lima_1.edf        503\n",
       "sarah_jadach.edf           84\n",
       "danila_ramos_3.edf         51\n",
       "Name: File, dtype: int64"
      ]
     },
     "execution_count": 16,
     "metadata": {},
     "output_type": "execute_result"
    }
   ],
   "source": [
    "#janelas de não crise\n",
    "df['File'].value_counts()"
   ]
  },
  {
   "cell_type": "markdown",
   "metadata": {},
   "source": [
    "# Testando em tudo\n",
    "Sinais de 4 canais, 6000 amostras, frequencia = 200/sec"
   ]
  },
  {
   "cell_type": "code",
   "execution_count": 18,
   "metadata": {},
   "outputs": [
    {
     "data": {
      "text/plain": [
       "Index(['EEG C3-P3', 'EEG C4-P4', 'EEG P3-P4', 'EEG A1-A2'], dtype='object')"
      ]
     },
     "execution_count": 18,
     "metadata": {},
     "output_type": "execute_result"
    }
   ],
   "source": [
    "df['Data'].values[0].columns"
   ]
  },
  {
   "cell_type": "code",
   "execution_count": 19,
   "metadata": {},
   "outputs": [],
   "source": [
    "dictStftArrayFinal = {}"
   ]
  },
  {
   "cell_type": "code",
   "execution_count": 20,
   "metadata": {},
   "outputs": [],
   "source": [
    "from tqdm import tqdm"
   ]
  },
  {
   "cell_type": "code",
   "execution_count": 21,
   "metadata": {},
   "outputs": [],
   "source": [
    "fs = 200 # Hz\n",
    "n = 5*fs # 5 seg"
   ]
  },
  {
   "cell_type": "code",
   "execution_count": 22,
   "metadata": {},
   "outputs": [
    {
     "name": "stderr",
     "output_type": "stream",
     "text": [
      "100%|██████████| 12/12 [2:27:24<00:00, 737.01s/it]  \n"
     ]
    }
   ],
   "source": [
    "for bb in tqdm(df['File'].unique()):\n",
    "\n",
    "    dataArray = None\n",
    "    targetArray = None\n",
    "    for i,row in (df[df['File'] == bb].sort_values('timestamp_start').reset_index(drop=True))[['Data','Target']].iterrows():\n",
    "\n",
    "        if i == 0:\n",
    "\n",
    "            dataArray = row['Data'].values.copy()\n",
    "\n",
    "            if row['Target'] == 0:\n",
    "                targetArray = np.zeros((row['Data'].values.shape[0]))\n",
    "            else:\n",
    "                targetArray = np.ones((row['Data'].values.shape[0]))\n",
    "\n",
    "        else:\n",
    "\n",
    "            dataArray = np.concatenate((dataArray,row['Data'].values))\n",
    "\n",
    "            if row['Target'] == 0:\n",
    "                targetArray = np.concatenate((targetArray,np.zeros((row['Data'].values.shape[0]))))\n",
    "            else:\n",
    "                targetArray = np.concatenate((targetArray,np.ones((row['Data'].values.shape[0]))))\n",
    "                \n",
    "    Arrays = []\n",
    "    Targets = []\n",
    "    # Para cada canal de eeg\n",
    "    for j in np.arange(0,dataArray.shape[1]):\n",
    "\n",
    "        array = butter_bandpass_filter(dataArray[:,j], 0.5, 75, fs, order=6)\n",
    "        subArray = [np.abs(np.fft.rfft(array[i:i + n]))/np.max(np.abs(np.fft.rfft(array[i:i + n]))) for i in range(0, len(array), n) if len(array[i:i + n]) == n]\n",
    "\n",
    "        if j == 0:\n",
    "            subTarget = [np.max(targetArray[i:i + n]) for i in range(0, len(targetArray), n) if len(targetArray[i:i + n]) == n]\n",
    "            Targets.append(subTarget)\n",
    "\n",
    "        Arrays.append(subArray)\n",
    "\n",
    "    Arrays = np.array(Arrays).swapaxes(0,1).swapaxes(1,2)\n",
    "    Targets = np.array(Targets)\n",
    "\n",
    "    ArrayFinal = []\n",
    "    TargetFinal = []\n",
    "\n",
    "    for j in np.arange(3,Arrays.shape[0]):\n",
    "\n",
    "        ArrayFinal.append(Arrays[j-3:j])\n",
    "        TargetFinal.append(Targets[0,j-1])\n",
    "\n",
    "    ArrayFinal = np.array(ArrayFinal)\n",
    "    TargetFinal= np.array(TargetFinal)\n",
    "\n",
    "    dictStftArrayFinal[bb] = { 'array' : ArrayFinal, 'target' : TargetFinal }"
   ]
  },
  {
   "cell_type": "code",
   "execution_count": 23,
   "metadata": {},
   "outputs": [],
   "source": [
    "for i,bb in enumerate(dictStftArrayFinal.keys()):\n",
    "    \n",
    "    tgt  = dictStftArrayFinal[bb]['target']\n",
    "    \n",
    "    target = []\n",
    "    \n",
    "    for i in tgt:\n",
    "        if i == 0:\n",
    "            target.append([0,1])\n",
    "        else:\n",
    "            target.append([1,0])\n",
    "            \n",
    "    tgt = np.array(target)\n",
    "    \n",
    "    dictStftArrayFinal[bb]['target'] = tgt\n",
    "    \n",
    "    dictStftArrayFinal[bb]['array'] = dictStftArrayFinal[bb]['array'].swapaxes(1,2).swapaxes(2,3)"
   ]
  },
  {
   "cell_type": "code",
   "execution_count": 24,
   "metadata": {},
   "outputs": [],
   "source": [
    "save_to_file(dictStftArrayFinal, 'dictStftArrayFinal.pkl')"
   ]
  },
  {
   "cell_type": "code",
   "execution_count": 25,
   "metadata": {},
   "outputs": [
    {
     "name": "stdout",
     "output_type": "stream",
     "text": [
      "total 8.5G\n",
      "drwxr-xr-x 3 jupyter jupyter 4.0K Dec  5 16:50 .\n",
      "drwxr-xr-x 8 jupyter jupyter 4.0K Dec  5 14:12 ..\n",
      "-rw-r--r-- 1 jupyter jupyter 8.5G Dec  5 16:50 dictStftArrayFinal.pkl\n",
      "drwxr-xr-x 2 jupyter jupyter 4.0K Dec  5 14:14 .ipynb_checkpoints\n",
      "-rw-r--r-- 1 jupyter jupyter  27K Dec  5 16:50 ML Pipe Feat Eng p Vini 3x5s.ipynb\n"
     ]
    }
   ],
   "source": [
    "! ls -lah"
   ]
  },
  {
   "cell_type": "markdown",
   "metadata": {},
   "source": [
    "## Model"
   ]
  },
  {
   "cell_type": "code",
   "execution_count": 26,
   "metadata": {},
   "outputs": [],
   "source": [
    "del df, neg, pos"
   ]
  },
  {
   "cell_type": "code",
   "execution_count": 27,
   "metadata": {},
   "outputs": [],
   "source": [
    "del dataArray, ArrayFinal, TargetFinal, array, subArray, subTarget, targetArray"
   ]
  },
  {
   "cell_type": "code",
   "execution_count": 28,
   "metadata": {},
   "outputs": [
    {
     "data": {
      "text/plain": [
       "110"
      ]
     },
     "execution_count": 28,
     "metadata": {},
     "output_type": "execute_result"
    }
   ],
   "source": [
    "import gc\n",
    "gc.collect()"
   ]
  },
  {
   "cell_type": "markdown",
   "metadata": {},
   "source": [
    "# Neural Network"
   ]
  },
  {
   "cell_type": "code",
   "execution_count": 29,
   "metadata": {},
   "outputs": [
    {
     "data": {
      "text/plain": [
       "dict_keys(['danila_ramos.edf', 'danila_ramos_3.edf', 'danila_ramos_4.edf', 'danila_ramos_5.edf', 'fabiana_1.edf', 'murilo_1.edf', 'remise_jean.edf', 'gilmara_cristina.edf', 'juliana_lima_1.edf', 'juliana_lima_2.edf', 'marilene.edf', 'sarah_jadach.edf'])"
      ]
     },
     "execution_count": 29,
     "metadata": {},
     "output_type": "execute_result"
    }
   ],
   "source": [
    "dictStftArrayFinal.keys()"
   ]
  },
  {
   "cell_type": "raw",
   "metadata": {},
   "source": [
    "save_to_file(dictStftArrayFinal,'dictStftArrayFinal.pkl')"
   ]
  },
  {
   "cell_type": "raw",
   "metadata": {},
   "source": [
    "dictStftArrayFinal =  load_file('dictStftArrayFinal_Better.pkl')"
   ]
  },
  {
   "cell_type": "markdown",
   "metadata": {},
   "source": [
    "# Treino em Todos Menos  \"murilo_1.edf\""
   ]
  },
  {
   "cell_type": "code",
   "execution_count": 30,
   "metadata": {},
   "outputs": [],
   "source": [
    "tgt = None\n",
    "stftArrayFinal = None"
   ]
  },
  {
   "cell_type": "code",
   "execution_count": 31,
   "metadata": {},
   "outputs": [],
   "source": [
    "for i,bb in enumerate(dictStftArrayFinal.keys()):\n",
    "    \n",
    "    if bb != 'murilo_1.edf':\n",
    "    \n",
    "        if i == 0:\n",
    "            \n",
    "            tgt = dictStftArrayFinal[bb]['target'].copy()\n",
    "            stftArrayFinal = dictStftArrayFinal[bb]['array'].copy()\n",
    "            \n",
    "        else:\n",
    "            stftArrayFinal = np.concatenate((stftArrayFinal, dictStftArrayFinal[bb]['array']))\n",
    "            tgt = np.concatenate((tgt, dictStftArrayFinal[bb]['target']))"
   ]
  },
  {
   "cell_type": "code",
   "execution_count": 32,
   "metadata": {},
   "outputs": [
    {
     "data": {
      "text/plain": [
       "(121803, 501, 4, 3)"
      ]
     },
     "execution_count": 32,
     "metadata": {},
     "output_type": "execute_result"
    }
   ],
   "source": [
    "#(10816, 201, 5, 1)\n",
    "stftArrayFinal.shape"
   ]
  },
  {
   "cell_type": "code",
   "execution_count": 33,
   "metadata": {},
   "outputs": [
    {
     "data": {
      "text/plain": [
       "((501, 4, 3), 2)"
      ]
     },
     "execution_count": 33,
     "metadata": {},
     "output_type": "execute_result"
    }
   ],
   "source": [
    "#input_shape = (img_rows, img_cols, 1)\n",
    "input_shape = stftArrayFinal[0].shape\n",
    "num_classes = 2\n",
    "batch_size = 256\n",
    "epochs = 300 #600\n",
    "input_shape,num_classes"
   ]
  },
  {
   "cell_type": "code",
   "execution_count": 34,
   "metadata": {},
   "outputs": [],
   "source": [
    "# CRIANDO MODELO\n",
    "inp = tf.keras.layers.Input(shape=input_shape)\n",
    "x = tf.keras.layers.Conv2D(32*5, kernel_size=(4,1), strides=(2, 1))(inp)\n",
    "x = tf.keras.layers.Activation('relu')(x)\n",
    "x = tf.keras.layers.AveragePooling2D(pool_size=(4,1))(x)\n",
    "x = tf.keras.layers.Dropout(rate=0.25)(x)\n",
    "x = tf.keras.layers.Conv2D(32*10, kernel_size=(4,4), strides=(1, 1))(x)\n",
    "x = tf.keras.layers.Activation('relu')(x)\n",
    "x = tf.keras.layers.Dropout(rate=0.25)(x)\n",
    "x = tf.keras.layers.Flatten()(x)\n",
    "x = tf.keras.layers.Dense(1024, activation='relu')(x)\n",
    "x = tf.keras.layers.BatchNormalization()(x)\n",
    "x = tf.keras.layers.Dropout(rate=0.25)(x)\n",
    "x = tf.keras.layers.Dense(512, activation='relu')(x)\n",
    "x = tf.keras.layers.BatchNormalization()(x)\n",
    "x = tf.keras.layers.Dropout(rate=0.25)(x)\n",
    "x = tf.keras.layers.Dense(128, activation='relu')(x)\n",
    "x = tf.keras.layers.BatchNormalization()(x)\n",
    "x = tf.keras.layers.Dropout(rate=0.25)(x)\n",
    "x = tf.keras.layers.Dense(64, activation='relu')(x)\n",
    "x = tf.keras.layers.BatchNormalization()(x)\n",
    "x = tf.keras.layers.Dropout(rate=0.25)(x)\n",
    "x = tf.keras.layers.Dense(16, activation='relu')(x)\n",
    "x = tf.keras.layers.BatchNormalization()(x)\n",
    "x = tf.keras.layers.Dropout(rate=0.25)(x)\n",
    "#\n",
    "#\n",
    "#\n",
    "eeg = tf.keras.layers.Dense(num_classes,activation='softmax',name='output')(x)\n",
    "\n",
    "model = tf.keras.models.Model(inputs=inp,outputs=[eeg])"
   ]
  },
  {
   "cell_type": "code",
   "execution_count": 35,
   "metadata": {},
   "outputs": [
    {
     "name": "stdout",
     "output_type": "stream",
     "text": [
      "Model: \"functional_1\"\n",
      "_________________________________________________________________\n",
      "Layer (type)                 Output Shape              Param #   \n",
      "=================================================================\n",
      "input_1 (InputLayer)         [(None, 501, 4, 3)]       0         \n",
      "_________________________________________________________________\n",
      "conv2d (Conv2D)              (None, 249, 4, 160)       2080      \n",
      "_________________________________________________________________\n",
      "activation (Activation)      (None, 249, 4, 160)       0         \n",
      "_________________________________________________________________\n",
      "average_pooling2d (AveragePo (None, 62, 4, 160)        0         \n",
      "_________________________________________________________________\n",
      "dropout (Dropout)            (None, 62, 4, 160)        0         \n",
      "_________________________________________________________________\n",
      "conv2d_1 (Conv2D)            (None, 59, 1, 320)        819520    \n",
      "_________________________________________________________________\n",
      "activation_1 (Activation)    (None, 59, 1, 320)        0         \n",
      "_________________________________________________________________\n",
      "dropout_1 (Dropout)          (None, 59, 1, 320)        0         \n",
      "_________________________________________________________________\n",
      "flatten (Flatten)            (None, 18880)             0         \n",
      "_________________________________________________________________\n",
      "dense (Dense)                (None, 1024)              19334144  \n",
      "_________________________________________________________________\n",
      "batch_normalization (BatchNo (None, 1024)              4096      \n",
      "_________________________________________________________________\n",
      "dropout_2 (Dropout)          (None, 1024)              0         \n",
      "_________________________________________________________________\n",
      "dense_1 (Dense)              (None, 512)               524800    \n",
      "_________________________________________________________________\n",
      "batch_normalization_1 (Batch (None, 512)               2048      \n",
      "_________________________________________________________________\n",
      "dropout_3 (Dropout)          (None, 512)               0         \n",
      "_________________________________________________________________\n",
      "dense_2 (Dense)              (None, 128)               65664     \n",
      "_________________________________________________________________\n",
      "batch_normalization_2 (Batch (None, 128)               512       \n",
      "_________________________________________________________________\n",
      "dropout_4 (Dropout)          (None, 128)               0         \n",
      "_________________________________________________________________\n",
      "dense_3 (Dense)              (None, 64)                8256      \n",
      "_________________________________________________________________\n",
      "batch_normalization_3 (Batch (None, 64)                256       \n",
      "_________________________________________________________________\n",
      "dropout_5 (Dropout)          (None, 64)                0         \n",
      "_________________________________________________________________\n",
      "dense_4 (Dense)              (None, 16)                1040      \n",
      "_________________________________________________________________\n",
      "batch_normalization_4 (Batch (None, 16)                64        \n",
      "_________________________________________________________________\n",
      "dropout_6 (Dropout)          (None, 16)                0         \n",
      "_________________________________________________________________\n",
      "output (Dense)               (None, 2)                 34        \n",
      "=================================================================\n",
      "Total params: 20,762,514\n",
      "Trainable params: 20,759,026\n",
      "Non-trainable params: 3,488\n",
      "_________________________________________________________________\n"
     ]
    }
   ],
   "source": [
    "model.summary()"
   ]
  },
  {
   "cell_type": "code",
   "execution_count": 36,
   "metadata": {},
   "outputs": [],
   "source": [
    "model.compile(loss=\"categorical_crossentropy\",\n",
    "              optimizer='adam',\n",
    "              metrics=[ 'AUC'])"
   ]
  },
  {
   "cell_type": "code",
   "execution_count": 37,
   "metadata": {
    "scrolled": true
   },
   "outputs": [
    {
     "name": "stdout",
     "output_type": "stream",
     "text": [
      "Epoch 1/300\n",
      "476/476 [==============================] - 106s 223ms/step - loss: 0.3029 - auc: 0.9482 - val_loss: 0.0708 - val_auc: 0.9971\n",
      "Epoch 2/300\n",
      "476/476 [==============================] - 105s 220ms/step - loss: 0.0932 - auc: 0.9935 - val_loss: 0.0937 - val_auc: 0.9914\n",
      "Epoch 3/300\n",
      "476/476 [==============================] - 105s 221ms/step - loss: 0.0688 - auc: 0.9961 - val_loss: 0.0593 - val_auc: 0.9958\n",
      "Epoch 4/300\n",
      "476/476 [==============================] - 105s 220ms/step - loss: 0.0576 - auc: 0.9972 - val_loss: 0.0908 - val_auc: 0.9919\n",
      "Epoch 5/300\n",
      "476/476 [==============================] - 104s 219ms/step - loss: 0.0510 - auc: 0.9978 - val_loss: 0.1247 - val_auc: 0.9878\n",
      "Epoch 6/300\n",
      "476/476 [==============================] - 104s 219ms/step - loss: 0.0446 - auc: 0.9981 - val_loss: 0.1029 - val_auc: 0.9900\n",
      "Epoch 7/300\n",
      "476/476 [==============================] - 104s 219ms/step - loss: 0.0387 - auc: 0.9985 - val_loss: 0.2124 - val_auc: 0.9733\n",
      "Epoch 8/300\n",
      "476/476 [==============================] - 104s 219ms/step - loss: 0.0365 - auc: 0.9986 - val_loss: 0.0885 - val_auc: 0.9912\n",
      "Epoch 9/300\n",
      "476/476 [==============================] - 104s 219ms/step - loss: 0.0346 - auc: 0.9988 - val_loss: 0.0999 - val_auc: 0.9909\n",
      "Epoch 10/300\n",
      "476/476 [==============================] - 104s 219ms/step - loss: 0.0306 - auc: 0.9991 - val_loss: 0.0834 - val_auc: 0.9935\n",
      "Epoch 11/300\n",
      "476/476 [==============================] - 104s 219ms/step - loss: 0.0276 - auc: 0.9992 - val_loss: 0.0702 - val_auc: 0.9946\n",
      "Epoch 12/300\n",
      "476/476 [==============================] - 104s 219ms/step - loss: 0.0258 - auc: 0.9992 - val_loss: 0.0814 - val_auc: 0.9930\n",
      "Epoch 13/300\n",
      "476/476 [==============================] - 104s 219ms/step - loss: 0.0235 - auc: 0.9994 - val_loss: 0.0838 - val_auc: 0.9936\n"
     ]
    },
    {
     "data": {
      "text/plain": [
       "<tensorflow.python.keras.callbacks.History at 0x7fd6753179d0>"
      ]
     },
     "execution_count": 37,
     "metadata": {},
     "output_type": "execute_result"
    }
   ],
   "source": [
    "earlyStopping = tf.keras.callbacks.EarlyStopping(monitor='val_loss', patience=10,verbose=0, mode='min')\n",
    "mcp_save = tf.keras.callbacks.ModelCheckpoint('bestAutoSave_murilo.hdf5', save_best_only=True, monitor='val_loss', mode='auto')\n",
    "#reduce_lr_loss = tf.keras.callbacks.ReduceLROnPlateau(monitor='val_loss', factor=0.1, patience=5, verbose=0, min_delta=1e-4, mode='auto')\n",
    "\n",
    "model.fit(\n",
    "    stftArrayFinal, tgt,\n",
    "    batch_size=batch_size,\n",
    "    epochs=epochs,\n",
    "    shuffle = True,\n",
    "    validation_data=(dictStftArrayFinal['murilo_1.edf']['array'], dictStftArrayFinal['murilo_1.edf']['target']),\n",
    "    callbacks=[mcp_save, earlyStopping],\n",
    "    verbose=1\n",
    ")"
   ]
  },
  {
   "cell_type": "code",
   "execution_count": 38,
   "metadata": {},
   "outputs": [],
   "source": [
    "model.save_weights(\"./modelo_murilo.hdf5\")"
   ]
  },
  {
   "cell_type": "code",
   "execution_count": 39,
   "metadata": {},
   "outputs": [],
   "source": [
    "model.load_weights('./bestAutoSave_murilo.hdf5')"
   ]
  },
  {
   "cell_type": "code",
   "execution_count": 25,
   "metadata": {},
   "outputs": [
    {
     "data": {
      "text/plain": [
       "4257"
      ]
     },
     "execution_count": 25,
     "metadata": {},
     "output_type": "execute_result"
    }
   ],
   "source": [
    "gc.collect()"
   ]
  },
  {
   "cell_type": "code",
   "execution_count": 30,
   "metadata": {},
   "outputs": [],
   "source": [
    "indexes = list(pd.DataFrame(dictStftArrayFinal['murilo_1.edf']['target']).sample(frac=0.5).index)"
   ]
  },
  {
   "cell_type": "code",
   "execution_count": 31,
   "metadata": {},
   "outputs": [],
   "source": [
    "y_pred = model.predict(dictStftArrayFinal['murilo_1.edf']['array'][indexes,:,:,:])"
   ]
  },
  {
   "cell_type": "code",
   "execution_count": 32,
   "metadata": {},
   "outputs": [
    {
     "data": {
      "image/png": "[encoded data removed]",
      "text/plain": [
       "<Figure size 576x576 with 1 Axes>"
      ]
     },
     "metadata": {
      "needs_background": "light"
     },
     "output_type": "display_data"
    }
   ],
   "source": [
    "cria_curva_roc_auc(model,dictStftArrayFinal['murilo_1.edf']['array'][indexes,:,:,:],dictStftArrayFinal['murilo_1.edf']['target'][indexes,1])"
   ]
  },
  {
   "cell_type": "code",
   "execution_count": 33,
   "metadata": {},
   "outputs": [
    {
     "name": "stdout",
     "output_type": "stream",
     "text": [
      "Limiar que maxima especificidade e sensitividade:\n",
      "[0.9857518076896667]\n",
      "Precision 0.9968810233047135\n",
      "Recall 0.8600193493771919\n",
      "Acuracia 0.8599703264094956\n",
      "F-Score 0.9234065345474023\n",
      "Roc-AUC 0.8944608386358069\n"
     ]
    }
   ],
   "source": [
    "limiar_escore(model,dictStftArrayFinal['murilo_1.edf']['array'][indexes,:,:,:],dictStftArrayFinal['murilo_1.edf']['target'][indexes,1])"
   ]
  },
  {
   "cell_type": "code",
   "execution_count": 35,
   "metadata": {},
   "outputs": [
    {
     "data": {
      "text/plain": [
       "array([[   80,   544],\n",
       "       [   43, 33033]])"
      ]
     },
     "execution_count": 35,
     "metadata": {},
     "output_type": "execute_result"
    }
   ],
   "source": [
    "confusion_matrix(dictStftArrayFinal['murilo_1.edf']['target'][indexes,1], [1 if x >= 0.1 else 0 for x in y_pred[:,1]])"
   ]
  },
  {
   "cell_type": "markdown",
   "metadata": {},
   "source": [
    "# Treino em Todos Menos  \"remise_jean.edf\""
   ]
  },
  {
   "cell_type": "code",
   "execution_count": 36,
   "metadata": {},
   "outputs": [],
   "source": [
    "tgt = None\n",
    "stftArrayFinal = None"
   ]
  },
  {
   "cell_type": "code",
   "execution_count": 37,
   "metadata": {},
   "outputs": [],
   "source": [
    "for i,bb in enumerate(dictStftArrayFinal.keys()):\n",
    "    \n",
    "    if bb != 'remise_jean.edf':\n",
    "    \n",
    "        if i == 0:\n",
    "            \n",
    "            tgt = dictStftArrayFinal[bb]['target'].copy()\n",
    "            stftArrayFinal = dictStftArrayFinal[bb]['array'].copy()\n",
    "            \n",
    "        else:\n",
    "            stftArrayFinal = np.concatenate((stftArrayFinal, dictStftArrayFinal[bb]['array']))\n",
    "            tgt = np.concatenate((tgt, dictStftArrayFinal[bb]['target']))"
   ]
  },
  {
   "cell_type": "code",
   "execution_count": 38,
   "metadata": {},
   "outputs": [
    {
     "data": {
      "text/plain": [
       "(171741, 501, 4, 3)"
      ]
     },
     "execution_count": 38,
     "metadata": {},
     "output_type": "execute_result"
    }
   ],
   "source": [
    "#(10816, 201, 5, 1)\n",
    "stftArrayFinal.shape"
   ]
  },
  {
   "cell_type": "code",
   "execution_count": 39,
   "metadata": {},
   "outputs": [
    {
     "data": {
      "text/plain": [
       "((501, 4, 3), 2)"
      ]
     },
     "execution_count": 39,
     "metadata": {},
     "output_type": "execute_result"
    }
   ],
   "source": [
    "#input_shape = (img_rows, img_cols, 1)\n",
    "input_shape = stftArrayFinal[0].shape\n",
    "num_classes = 2\n",
    "batch_size = 256\n",
    "epochs = 300 #600\n",
    "input_shape,num_classes"
   ]
  },
  {
   "cell_type": "code",
   "execution_count": 40,
   "metadata": {},
   "outputs": [],
   "source": [
    "# CRIANDO MODELO\n",
    "inp = tf.keras.layers.Input(shape=input_shape)\n",
    "x = tf.keras.layers.Conv2D(32*5, kernel_size=(4,1), strides=(2, 1))(inp)\n",
    "x = tf.keras.layers.Activation('relu')(x)\n",
    "x = tf.keras.layers.AveragePooling2D(pool_size=(4,1))(x)\n",
    "x = tf.keras.layers.Dropout(rate=0.25)(x)\n",
    "x = tf.keras.layers.Conv2D(32*10, kernel_size=(4,4), strides=(1, 1))(x)\n",
    "x = tf.keras.layers.Activation('relu')(x)\n",
    "x = tf.keras.layers.Dropout(rate=0.25)(x)\n",
    "x = tf.keras.layers.Flatten()(x)\n",
    "x = tf.keras.layers.Dense(1024, activation='relu')(x)\n",
    "x = tf.keras.layers.BatchNormalization()(x)\n",
    "x = tf.keras.layers.Dropout(rate=0.25)(x)\n",
    "x = tf.keras.layers.Dense(512, activation='relu')(x)\n",
    "x = tf.keras.layers.BatchNormalization()(x)\n",
    "x = tf.keras.layers.Dropout(rate=0.25)(x)\n",
    "x = tf.keras.layers.Dense(128, activation='relu')(x)\n",
    "x = tf.keras.layers.BatchNormalization()(x)\n",
    "x = tf.keras.layers.Dropout(rate=0.25)(x)\n",
    "x = tf.keras.layers.Dense(64, activation='relu')(x)\n",
    "x = tf.keras.layers.BatchNormalization()(x)\n",
    "x = tf.keras.layers.Dropout(rate=0.25)(x)\n",
    "x = tf.keras.layers.Dense(16, activation='relu')(x)\n",
    "x = tf.keras.layers.BatchNormalization()(x)\n",
    "x = tf.keras.layers.Dropout(rate=0.25)(x)\n",
    "#\n",
    "#\n",
    "#\n",
    "eeg = tf.keras.layers.Dense(num_classes,activation='softmax',name='output')(x)\n",
    "\n",
    "model = tf.keras.models.Model(inputs=inp,outputs=[eeg])"
   ]
  },
  {
   "cell_type": "code",
   "execution_count": 41,
   "metadata": {},
   "outputs": [
    {
     "name": "stdout",
     "output_type": "stream",
     "text": [
      "Model: \"functional_3\"\n",
      "_________________________________________________________________\n",
      "Layer (type)                 Output Shape              Param #   \n",
      "=================================================================\n",
      "input_2 (InputLayer)         [(None, 501, 4, 3)]       0         \n",
      "_________________________________________________________________\n",
      "conv2d_2 (Conv2D)            (None, 249, 4, 160)       2080      \n",
      "_________________________________________________________________\n",
      "activation_2 (Activation)    (None, 249, 4, 160)       0         \n",
      "_________________________________________________________________\n",
      "average_pooling2d_1 (Average (None, 62, 4, 160)        0         \n",
      "_________________________________________________________________\n",
      "dropout_7 (Dropout)          (None, 62, 4, 160)        0         \n",
      "_________________________________________________________________\n",
      "conv2d_3 (Conv2D)            (None, 59, 1, 320)        819520    \n",
      "_________________________________________________________________\n",
      "activation_3 (Activation)    (None, 59, 1, 320)        0         \n",
      "_________________________________________________________________\n",
      "dropout_8 (Dropout)          (None, 59, 1, 320)        0         \n",
      "_________________________________________________________________\n",
      "flatten_1 (Flatten)          (None, 18880)             0         \n",
      "_________________________________________________________________\n",
      "dense_5 (Dense)              (None, 1024)              19334144  \n",
      "_________________________________________________________________\n",
      "batch_normalization_5 (Batch (None, 1024)              4096      \n",
      "_________________________________________________________________\n",
      "dropout_9 (Dropout)          (None, 1024)              0         \n",
      "_________________________________________________________________\n",
      "dense_6 (Dense)              (None, 512)               524800    \n",
      "_________________________________________________________________\n",
      "batch_normalization_6 (Batch (None, 512)               2048      \n",
      "_________________________________________________________________\n",
      "dropout_10 (Dropout)         (None, 512)               0         \n",
      "_________________________________________________________________\n",
      "dense_7 (Dense)              (None, 128)               65664     \n",
      "_________________________________________________________________\n",
      "batch_normalization_7 (Batch (None, 128)               512       \n",
      "_________________________________________________________________\n",
      "dropout_11 (Dropout)         (None, 128)               0         \n",
      "_________________________________________________________________\n",
      "dense_8 (Dense)              (None, 64)                8256      \n",
      "_________________________________________________________________\n",
      "batch_normalization_8 (Batch (None, 64)                256       \n",
      "_________________________________________________________________\n",
      "dropout_12 (Dropout)         (None, 64)                0         \n",
      "_________________________________________________________________\n",
      "dense_9 (Dense)              (None, 16)                1040      \n",
      "_________________________________________________________________\n",
      "batch_normalization_9 (Batch (None, 16)                64        \n",
      "_________________________________________________________________\n",
      "dropout_13 (Dropout)         (None, 16)                0         \n",
      "_________________________________________________________________\n",
      "output (Dense)               (None, 2)                 34        \n",
      "=================================================================\n",
      "Total params: 20,762,514\n",
      "Trainable params: 20,759,026\n",
      "Non-trainable params: 3,488\n",
      "_________________________________________________________________\n"
     ]
    }
   ],
   "source": [
    "model.summary()"
   ]
  },
  {
   "cell_type": "code",
   "execution_count": 42,
   "metadata": {},
   "outputs": [],
   "source": [
    "model.compile(loss=\"categorical_crossentropy\",\n",
    "              optimizer='adam',\n",
    "              metrics=['AUC'])"
   ]
  },
  {
   "cell_type": "code",
   "execution_count": 43,
   "metadata": {
    "scrolled": true
   },
   "outputs": [
    {
     "name": "stdout",
     "output_type": "stream",
     "text": [
      "Epoch 1/300\n",
      "671/671 [==============================] - 116s 173ms/step - loss: 0.2393 - auc: 0.9678 - val_loss: 0.6284 - val_auc: 0.7779\n",
      "Epoch 2/300\n",
      "671/671 [==============================] - 114s 170ms/step - loss: 0.0525 - auc: 0.9976 - val_loss: 0.8673 - val_auc: 0.5465\n",
      "Epoch 3/300\n",
      "671/671 [==============================] - 114s 169ms/step - loss: 0.0411 - auc: 0.9985 - val_loss: 1.0733 - val_auc: 0.4279\n",
      "Epoch 4/300\n",
      "671/671 [==============================] - 113s 169ms/step - loss: 0.0358 - auc: 0.9988 - val_loss: 0.7426 - val_auc: 0.6662\n",
      "Epoch 5/300\n",
      "671/671 [==============================] - 114s 169ms/step - loss: 0.0318 - auc: 0.9990 - val_loss: 1.6133 - val_auc: 0.3533\n",
      "Epoch 6/300\n",
      "671/671 [==============================] - 113s 169ms/step - loss: 0.0305 - auc: 0.9990 - val_loss: 1.7677 - val_auc: 0.2860\n"
     ]
    },
    {
     "data": {
      "text/plain": [
       "<tensorflow.python.keras.callbacks.History at 0x7fac1b1dd050>"
      ]
     },
     "execution_count": 43,
     "metadata": {},
     "output_type": "execute_result"
    }
   ],
   "source": [
    "earlyStopping = tf.keras.callbacks.EarlyStopping(monitor='val_loss', patience=5,verbose=0, mode='min')\n",
    "mcp_save = tf.keras.callbacks.ModelCheckpoint('bestAutoSave_remise.hdf5', save_best_only=True, monitor='val_loss', mode='auto')\n",
    "#reduce_lr_loss = tf.keras.callbacks.ReduceLROnPlateau(monitor='val_loss', factor=0.1, patience=5, verbose=0, min_delta=1e-4, mode='auto')\n",
    "\n",
    "model.fit(\n",
    "    stftArrayFinal, tgt,\n",
    "    batch_size=batch_size,\n",
    "    epochs=epochs,\n",
    "    shuffle = True,\n",
    "    validation_data=(dictStftArrayFinal['remise_jean.edf']['array'], dictStftArrayFinal['remise_jean.edf']['target']),\n",
    "    callbacks=[mcp_save, earlyStopping],\n",
    "    verbose=1\n",
    ")"
   ]
  },
  {
   "cell_type": "code",
   "execution_count": 44,
   "metadata": {},
   "outputs": [],
   "source": [
    "model.save_weights(\"./modelo_remise.hdf5\")"
   ]
  },
  {
   "cell_type": "code",
   "execution_count": 45,
   "metadata": {},
   "outputs": [],
   "source": [
    "model.load_weights('./bestAutoSave_remise.hdf5')"
   ]
  },
  {
   "cell_type": "code",
   "execution_count": 46,
   "metadata": {},
   "outputs": [
    {
     "data": {
      "image/png": "[encoded data removed]",
      "text/plain": [
       "<Figure size 576x576 with 1 Axes>"
      ]
     },
     "metadata": {
      "needs_background": "light"
     },
     "output_type": "display_data"
    }
   ],
   "source": [
    "cria_curva_roc_auc(model,dictStftArrayFinal['remise_jean.edf']['array'],dictStftArrayFinal['remise_jean.edf']['target'][:,1])"
   ]
  },
  {
   "cell_type": "code",
   "execution_count": 47,
   "metadata": {},
   "outputs": [
    {
     "name": "stdout",
     "output_type": "stream",
     "text": [
      "Limiar que maxima especificidade e sensitividade:\n",
      "[0.2567901909351349]\n",
      "Precision 0.993785350185043\n",
      "Recall 0.8421800106515178\n",
      "Acuracia 0.8421806104334879\n",
      "F-Score 0.9117232543241511\n",
      "Roc-AUC 0.9246459671330588\n"
     ]
    }
   ],
   "source": [
    "limiar_escore(model,dictStftArrayFinal['remise_jean.edf']['array'],dictStftArrayFinal['remise_jean.edf']['target'][:,1])"
   ]
  },
  {
   "cell_type": "code",
   "execution_count": 48,
   "metadata": {},
   "outputs": [],
   "source": [
    "y_pred = model.predict(dictStftArrayFinal['remise_jean.edf']['array'])"
   ]
  },
  {
   "cell_type": "code",
   "execution_count": 49,
   "metadata": {},
   "outputs": [
    {
     "data": {
      "text/plain": [
       "array([[  416,   148],\n",
       "       [  885, 16014]])"
      ]
     },
     "execution_count": 49,
     "metadata": {},
     "output_type": "execute_result"
    }
   ],
   "source": [
    "confusion_matrix(dictStftArrayFinal['remise_jean.edf']['target'][:,1], [1 if x >= 0.08519119024276733 else 0 for x in y_pred[:,1]])"
   ]
  },
  {
   "cell_type": "code",
   "execution_count": 50,
   "metadata": {},
   "outputs": [
    {
     "data": {
      "text/plain": [
       "1    16899\n",
       "0      564\n",
       "Name: 1, dtype: int64"
      ]
     },
     "execution_count": 50,
     "metadata": {},
     "output_type": "execute_result"
    }
   ],
   "source": [
    "pd.DataFrame(dictStftArrayFinal['remise_jean.edf']['target'])[1].value_counts()"
   ]
  },
  {
   "cell_type": "markdown",
   "metadata": {},
   "source": [
    "FIM"
   ]
  }
 ],
 "metadata": {
  "environment": {
   "name": "tf2-2-3-gpu.2-3.m58",
   "type": "gcloud",
   "uri": "gcr.io/deeplearning-platform-release/tf2-2-3-gpu.2-3:m58"
  },
  "kernelspec": {
   "display_name": "Python 3",
   "language": "python",
   "name": "python3"
  },
  "language_info": {
   "codemirror_mode": {
    "name": "ipython",
    "version": 3
   },
   "file_extension": ".py",
   "mimetype": "text/x-python",
   "name": "python",
   "nbconvert_exporter": "python",
   "pygments_lexer": "ipython3",
   "version": "3.7.8"
  }
 },
 "nbformat": 4,
 "nbformat_minor": 4
}
