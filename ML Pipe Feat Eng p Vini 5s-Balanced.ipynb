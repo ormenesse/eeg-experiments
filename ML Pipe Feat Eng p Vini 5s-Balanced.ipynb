{
 "cells": [
  {
   "cell_type": "code",
   "execution_count": 1,
   "metadata": {
    "scrolled": true
   },
   "outputs": [],
   "source": [
    "import os\n",
    "import time\n",
    "import numpy as np\n",
    "import pandas as pd\n",
    "import lightgbm as lgb\n",
    "\n",
    "from sklearn.metrics import roc_auc_score, accuracy_score, confusion_matrix\n",
    "from sklearn.model_selection import validation_curve, train_test_split\n",
    "\n",
    "from tqdm.notebook import tqdm\n",
    "import matplotlib.pyplot as plt\n",
    "\n",
    "%matplotlib inline"
   ]
  },
  {
   "cell_type": "code",
   "execution_count": 2,
   "metadata": {},
   "outputs": [],
   "source": [
    "import pandas as pd\n",
    "import matplotlib.pyplot as plt\n",
    "import gc\n",
    "import scipy\n",
    "from scipy import signal\n",
    "from scipy.signal import butter, lfilter, freqz, stft\n",
    "from scipy.fft import fft\n",
    "import numpy as np\n",
    "import pickle\n",
    "import tensorflow as tf\n",
    "from sklearn.metrics import accuracy_score, confusion_matrix, matthews_corrcoef, roc_auc_score, roc_curve "
   ]
  },
  {
   "cell_type": "code",
   "execution_count": 3,
   "metadata": {},
   "outputs": [],
   "source": [
    "def cria_curva_roc_auc(modelo,df_verificacao,df_target):\n",
    "    predictions = modelo.predict(df_verificacao)\n",
    "    fpr, tpr, threshold = roc_curve(df_target, predictions[:,1])\n",
    "    plt.figure(figsize=(8,8))\n",
    "    lw = 2\n",
    "    plt.plot(fpr, tpr, color='darkorange',lw=lw, label='ROC curve (area = %0.2f)' % roc_auc_score(df_target, predictions[:,1]))\n",
    "    plt.plot([0, 1], [0, 1], color='navy', lw=lw, linestyle='--')\n",
    "    plt.xlim([0.0, 1.0])\n",
    "    plt.ylim([0.0, 1.05])\n",
    "    plt.xlabel('False Positive Rate')\n",
    "    plt.ylabel('True Positive Rate')\n",
    "    plt.title('Receiver operating characteristic REAIS')\n",
    "    plt.legend(loc=\"lower right\")\n",
    "    plt.show()\n",
    "    \n",
    "def limiar_escore(modelo,df_verificacao,df_target):\n",
    "    #Imprimindo limiar de Escore\n",
    "    predictions = modelo.predict(df_verificacao)\n",
    "    fpr, tpr, threshold = roc_curve(df_target, predictions[:,1])\n",
    "    i = np.arange(len(tpr)) \n",
    "    roc = pd.DataFrame({'tf' : pd.Series(tpr-(1-fpr), index=i), 'threshold' : pd.Series(threshold, index=i)})\n",
    "    roc_t = roc.loc[(roc.tf-0).abs().argsort()[:1]]\n",
    "    print('Limiar que maxima especificidade e sensitividade:')\n",
    "    print(list(roc_t['threshold']))\n",
    "    #analisando modelo com novo limiar\n",
    "    tn, fp, fn, tp = confusion_matrix(df_target, [1 if item>=list(roc_t['threshold'])[0] else 0 for item in predictions[:,1]]).ravel()\n",
    "    Precision = tp/(tp+fp)\n",
    "    Recall = tp/(tp+fn)\n",
    "    acuracia = (tp+tn)/(tn+fp+fn+tp)\n",
    "    F = (2*Precision*Recall)/(Precision+Recall)\n",
    "    print('Precision',Precision)\n",
    "    print('Recall',Recall)\n",
    "    print('Acuracia',acuracia)\n",
    "    print('F-Score',F)\n",
    "    print('Roc-AUC', roc_auc_score(df_target, predictions[:,1]))"
   ]
  },
  {
   "cell_type": "markdown",
   "metadata": {},
   "source": [
    "# Functions"
   ]
  },
  {
   "cell_type": "code",
   "execution_count": 4,
   "metadata": {},
   "outputs": [],
   "source": [
    "def plot_eeg(df, name='', save=False):\n",
    "    fig, rows = plt.subplots(nrows=4, sharex=True, figsize=(17,10))\n",
    "    fig.patch.set_visible(False)\n",
    "    fig.tight_layout()\n",
    "\n",
    "    for ax, col in zip(rows, df.columns):\n",
    "        ax.plot(df[col])\n",
    "        ax.title.set_text(col + \"_\" + name)\n",
    "        ax.set_ylim(-150, 150)\n",
    "        ax.patch.set_visible(False)\n",
    "        \n",
    "    if not save:\n",
    "        plt.show()\n",
    "    else:\n",
    "        plt.savefig(f'figs/{name}.png')\n",
    "        plt.close(fig)"
   ]
  },
  {
   "cell_type": "code",
   "execution_count": 5,
   "metadata": {},
   "outputs": [],
   "source": [
    "def coluniza(a, nome):\n",
    "    d = pd.DataFrame(a).T\n",
    "    d.columns = [nome + \"_\" + str(col) for col in d.columns]\n",
    "    return d"
   ]
  },
  {
   "cell_type": "code",
   "execution_count": 6,
   "metadata": {},
   "outputs": [],
   "source": [
    "def save_to_file(objeto, nome_arquivo):\n",
    "    with open(nome_arquivo, 'wb') as output:\n",
    "        pickle.dump(objeto, output, pickle.HIGHEST_PROTOCOL)\n",
    "\n",
    "\n",
    "def load_file(nome_arquivo):\n",
    "    with open(nome_arquivo, 'rb') as input:\n",
    "        objeto = pickle.load(input)\n",
    "    return objeto"
   ]
  },
  {
   "cell_type": "code",
   "execution_count": 7,
   "metadata": {},
   "outputs": [],
   "source": [
    "def butter_bandpass(lowcut, highcut, fs, order=5):\n",
    "    nyq = 0.5 * fs\n",
    "    low = lowcut / nyq\n",
    "    high = highcut / nyq\n",
    "    b, a = butter(order, [low, high], btype='band')\n",
    "    return b, a\n",
    "\n",
    "def butter_bandpass_filter(data, lowcut, highcut, fs, order=5):\n",
    "    b, a = butter_bandpass(lowcut, highcut, fs, order=order)\n",
    "    y = lfilter(b, a, data)\n",
    "    return y"
   ]
  },
  {
   "cell_type": "code",
   "execution_count": 8,
   "metadata": {},
   "outputs": [],
   "source": [
    "folder = '../../Data'"
   ]
  },
  {
   "cell_type": "code",
   "execution_count": 9,
   "metadata": {},
   "outputs": [
    {
     "name": "stdout",
     "output_type": "stream",
     "text": [
      "Full_Positives_7nov.hdf\n",
      "Full_Negatives_7nov0.hdf\n",
      "Full_Negatives_7nov2.hdf\n",
      "Full_Negatives_7nov1.hdf\n",
      "CPU times: user 17.2 s, sys: 18.5 s, total: 35.6 s\n",
      "Wall time: 35.6 s\n"
     ]
    }
   ],
   "source": [
    "%%time\n",
    "chunks = []\n",
    "for f in os.listdir(folder):\n",
    "    print(f)\n",
    "    if 'Full_Negatives_7nov' in f:\n",
    "        chunk = pd.read_hdf(os.path.join(folder, f))\n",
    "        chunks.append(chunk)\n",
    "neg = pd.concat(chunks, axis=0)"
   ]
  },
  {
   "cell_type": "code",
   "execution_count": 10,
   "metadata": {},
   "outputs": [
    {
     "data": {
      "text/plain": [
       "Index(['File', 'Paciente', 'Data', 'timestamp_start', 'Target'], dtype='object')"
      ]
     },
     "execution_count": 10,
     "metadata": {},
     "output_type": "execute_result"
    }
   ],
   "source": [
    "neg.columns"
   ]
  },
  {
   "cell_type": "code",
   "execution_count": 11,
   "metadata": {},
   "outputs": [
    {
     "data": {
      "text/plain": [
       "(30000, 5)"
      ]
     },
     "execution_count": 11,
     "metadata": {},
     "output_type": "execute_result"
    }
   ],
   "source": [
    "neg.shape"
   ]
  },
  {
   "cell_type": "code",
   "execution_count": 12,
   "metadata": {},
   "outputs": [
    {
     "data": {
      "text/html": [
       "<div>\n",
       "<style scoped>\n",
       "    .dataframe tbody tr th:only-of-type {\n",
       "        vertical-align: middle;\n",
       "    }\n",
       "\n",
       "    .dataframe tbody tr th {\n",
       "        vertical-align: top;\n",
       "    }\n",
       "\n",
       "    .dataframe thead th {\n",
       "        text-align: right;\n",
       "    }\n",
       "</style>\n",
       "<table border=\"1\" class=\"dataframe\">\n",
       "  <thead>\n",
       "    <tr style=\"text-align: right;\">\n",
       "      <th></th>\n",
       "      <th>File</th>\n",
       "      <th>Paciente</th>\n",
       "      <th>Data</th>\n",
       "      <th>timestamp_start</th>\n",
       "      <th>Target</th>\n",
       "    </tr>\n",
       "  </thead>\n",
       "  <tbody>\n",
       "    <tr>\n",
       "      <th>0</th>\n",
       "      <td>danila_ramos.edf</td>\n",
       "      <td>RN DALILA RAMOS DOMINGUES</td>\n",
       "      <td>EEG C3-P3  EEG C4-P4  EEG P3-P4  EEG A1-...</td>\n",
       "      <td>0</td>\n",
       "      <td>1</td>\n",
       "    </tr>\n",
       "    <tr>\n",
       "      <th>1</th>\n",
       "      <td>danila_ramos.edf</td>\n",
       "      <td>RN DALILA RAMOS DOMINGUES</td>\n",
       "      <td>EEG C3-P3  EEG C4-P4  EEG P3-P4  EEG A1...</td>\n",
       "      <td>9000</td>\n",
       "      <td>1</td>\n",
       "    </tr>\n",
       "    <tr>\n",
       "      <th>2</th>\n",
       "      <td>danila_ramos.edf</td>\n",
       "      <td>RN DALILA RAMOS DOMINGUES</td>\n",
       "      <td>EEG C3-P3  EEG C4-P4  EEG P3-P4  EEG A1...</td>\n",
       "      <td>18000</td>\n",
       "      <td>1</td>\n",
       "    </tr>\n",
       "    <tr>\n",
       "      <th>3</th>\n",
       "      <td>danila_ramos.edf</td>\n",
       "      <td>RN DALILA RAMOS DOMINGUES</td>\n",
       "      <td>EEG C3-P3  EEG C4-P4  EEG P3-P4  EEG A1...</td>\n",
       "      <td>27000</td>\n",
       "      <td>1</td>\n",
       "    </tr>\n",
       "    <tr>\n",
       "      <th>4</th>\n",
       "      <td>danila_ramos.edf</td>\n",
       "      <td>RN DALILA RAMOS DOMINGUES</td>\n",
       "      <td>EEG C3-P3  EEG C4-P4  EEG P3-P4  EEG A1...</td>\n",
       "      <td>36000</td>\n",
       "      <td>1</td>\n",
       "    </tr>\n",
       "  </tbody>\n",
       "</table>\n",
       "</div>"
      ],
      "text/plain": [
       "               File                   Paciente  \\\n",
       "0  danila_ramos.edf  RN DALILA RAMOS DOMINGUES   \n",
       "1  danila_ramos.edf  RN DALILA RAMOS DOMINGUES   \n",
       "2  danila_ramos.edf  RN DALILA RAMOS DOMINGUES   \n",
       "3  danila_ramos.edf  RN DALILA RAMOS DOMINGUES   \n",
       "4  danila_ramos.edf  RN DALILA RAMOS DOMINGUES   \n",
       "\n",
       "                                                Data  timestamp_start  Target  \n",
       "0        EEG C3-P3  EEG C4-P4  EEG P3-P4  EEG A1-...                0       1  \n",
       "1         EEG C3-P3  EEG C4-P4  EEG P3-P4  EEG A1...             9000       1  \n",
       "2         EEG C3-P3  EEG C4-P4  EEG P3-P4  EEG A1...            18000       1  \n",
       "3         EEG C3-P3  EEG C4-P4  EEG P3-P4  EEG A1...            27000       1  \n",
       "4         EEG C3-P3  EEG C4-P4  EEG P3-P4  EEG A1...            36000       1  "
      ]
     },
     "execution_count": 12,
     "metadata": {},
     "output_type": "execute_result"
    }
   ],
   "source": [
    "neg.head()"
   ]
  },
  {
   "cell_type": "code",
   "execution_count": 13,
   "metadata": {},
   "outputs": [
    {
     "data": {
      "text/html": [
       "<div>\n",
       "<style scoped>\n",
       "    .dataframe tbody tr th:only-of-type {\n",
       "        vertical-align: middle;\n",
       "    }\n",
       "\n",
       "    .dataframe tbody tr th {\n",
       "        vertical-align: top;\n",
       "    }\n",
       "\n",
       "    .dataframe thead th {\n",
       "        text-align: right;\n",
       "    }\n",
       "</style>\n",
       "<table border=\"1\" class=\"dataframe\">\n",
       "  <thead>\n",
       "    <tr style=\"text-align: right;\">\n",
       "      <th></th>\n",
       "      <th>EEG C3-P3</th>\n",
       "      <th>EEG C4-P4</th>\n",
       "      <th>EEG P3-P4</th>\n",
       "      <th>EEG A1-A2</th>\n",
       "    </tr>\n",
       "  </thead>\n",
       "  <tbody>\n",
       "    <tr>\n",
       "      <th>0</th>\n",
       "      <td>0.083503</td>\n",
       "      <td>-0.194469</td>\n",
       "      <td>-0.320255</td>\n",
       "      <td>0.093475</td>\n",
       "    </tr>\n",
       "    <tr>\n",
       "      <th>1</th>\n",
       "      <td>0.627561</td>\n",
       "      <td>-1.572063</td>\n",
       "      <td>-2.581153</td>\n",
       "      <td>0.856685</td>\n",
       "    </tr>\n",
       "    <tr>\n",
       "      <th>2</th>\n",
       "      <td>2.441086</td>\n",
       "      <td>-6.431905</td>\n",
       "      <td>-10.524846</td>\n",
       "      <td>3.505472</td>\n",
       "    </tr>\n",
       "    <tr>\n",
       "      <th>3</th>\n",
       "      <td>6.657532</td>\n",
       "      <td>-17.835315</td>\n",
       "      <td>-29.223078</td>\n",
       "      <td>9.768281</td>\n",
       "    </tr>\n",
       "    <tr>\n",
       "      <th>4</th>\n",
       "      <td>14.455691</td>\n",
       "      <td>-38.728811</td>\n",
       "      <td>-63.442064</td>\n",
       "      <td>21.216426</td>\n",
       "    </tr>\n",
       "    <tr>\n",
       "      <th>...</th>\n",
       "      <td>...</td>\n",
       "      <td>...</td>\n",
       "      <td>...</td>\n",
       "      <td>...</td>\n",
       "    </tr>\n",
       "    <tr>\n",
       "      <th>5995</th>\n",
       "      <td>7.382942</td>\n",
       "      <td>-8.689627</td>\n",
       "      <td>-5.391998</td>\n",
       "      <td>8.690808</td>\n",
       "    </tr>\n",
       "    <tr>\n",
       "      <th>5996</th>\n",
       "      <td>8.153691</td>\n",
       "      <td>-8.957492</td>\n",
       "      <td>-5.147577</td>\n",
       "      <td>9.117308</td>\n",
       "    </tr>\n",
       "    <tr>\n",
       "      <th>5997</th>\n",
       "      <td>8.697748</td>\n",
       "      <td>-8.880959</td>\n",
       "      <td>-4.597629</td>\n",
       "      <td>9.386676</td>\n",
       "    </tr>\n",
       "    <tr>\n",
       "      <th>5998</th>\n",
       "      <td>8.879101</td>\n",
       "      <td>-8.306962</td>\n",
       "      <td>-3.742154</td>\n",
       "      <td>9.341781</td>\n",
       "    </tr>\n",
       "    <tr>\n",
       "      <th>5999</th>\n",
       "      <td>8.652410</td>\n",
       "      <td>-7.273767</td>\n",
       "      <td>-2.581153</td>\n",
       "      <td>8.915282</td>\n",
       "    </tr>\n",
       "  </tbody>\n",
       "</table>\n",
       "<p>6000 rows × 4 columns</p>\n",
       "</div>"
      ],
      "text/plain": [
       "      EEG C3-P3  EEG C4-P4  EEG P3-P4  EEG A1-A2\n",
       "0      0.083503  -0.194469  -0.320255   0.093475\n",
       "1      0.627561  -1.572063  -2.581153   0.856685\n",
       "2      2.441086  -6.431905 -10.524846   3.505472\n",
       "3      6.657532 -17.835315 -29.223078   9.768281\n",
       "4     14.455691 -38.728811 -63.442064  21.216426\n",
       "...         ...        ...        ...        ...\n",
       "5995   7.382942  -8.689627  -5.391998   8.690808\n",
       "5996   8.153691  -8.957492  -5.147577   9.117308\n",
       "5997   8.697748  -8.880959  -4.597629   9.386676\n",
       "5998   8.879101  -8.306962  -3.742154   9.341781\n",
       "5999   8.652410  -7.273767  -2.581153   8.915282\n",
       "\n",
       "[6000 rows x 4 columns]"
      ]
     },
     "execution_count": 13,
     "metadata": {},
     "output_type": "execute_result"
    }
   ],
   "source": [
    "neg['Data'].values[0]"
   ]
  },
  {
   "cell_type": "code",
   "execution_count": 14,
   "metadata": {},
   "outputs": [],
   "source": [
    "#Esqueci do target 0 rs\n",
    "neg['Target'] = 0"
   ]
  },
  {
   "cell_type": "code",
   "execution_count": 15,
   "metadata": {},
   "outputs": [],
   "source": [
    "pos = pd.read_hdf(os.path.join(folder, \"Full_Positives_7nov.hdf\"))"
   ]
  },
  {
   "cell_type": "code",
   "execution_count": 16,
   "metadata": {},
   "outputs": [
    {
     "data": {
      "text/plain": [
       "((1540, 5), (30000, 5))"
      ]
     },
     "execution_count": 16,
     "metadata": {},
     "output_type": "execute_result"
    }
   ],
   "source": [
    "pos.shape, neg.shape"
   ]
  },
  {
   "cell_type": "code",
   "execution_count": 17,
   "metadata": {},
   "outputs": [],
   "source": [
    "#junta em um df\n",
    "df = pd.concat([neg, pos]).reset_index(drop=True)"
   ]
  },
  {
   "cell_type": "code",
   "execution_count": 18,
   "metadata": {},
   "outputs": [
    {
     "data": {
      "text/plain": [
       "0    30000\n",
       "1     1540\n",
       "Name: Target, dtype: int64"
      ]
     },
     "execution_count": 18,
     "metadata": {},
     "output_type": "execute_result"
    }
   ],
   "source": [
    "df['Target'].value_counts(dropna=False)"
   ]
  },
  {
   "cell_type": "code",
   "execution_count": 19,
   "metadata": {},
   "outputs": [
    {
     "data": {
      "text/plain": [
       "fabiana_1.edf           646\n",
       "gilmara_cristina.edf    357\n",
       "murilo_1.edf            211\n",
       "remise_jean.edf          94\n",
       "danila_ramos_4.edf       85\n",
       "sarah_jadach.edf         84\n",
       "danila_ramos.edf         56\n",
       "juliana_lima_1.edf        5\n",
       "juliana_lima_2.edf        1\n",
       "marilene.edf              1\n",
       "Name: File, dtype: int64"
      ]
     },
     "execution_count": 19,
     "metadata": {},
     "output_type": "execute_result"
    }
   ],
   "source": [
    "#janelas de crise (alguns bebes tem muito pouco, não são usados para validar)\n",
    "pos['File'].value_counts()"
   ]
  },
  {
   "cell_type": "code",
   "execution_count": 20,
   "metadata": {},
   "outputs": [
    {
     "data": {
      "text/plain": [
       "murilo_1.edf            11234\n",
       "danila_ramos_5.edf       5550\n",
       "danila_ramos_4.edf       3755\n",
       "marilene.edf             2946\n",
       "remise_jean.edf          2911\n",
       "juliana_lima_2.edf       1945\n",
       "fabiana_1.edf            1120\n",
       "gilmara_cristina.edf      784\n",
       "danila_ramos.edf          657\n",
       "juliana_lima_1.edf        503\n",
       "sarah_jadach.edf           84\n",
       "danila_ramos_3.edf         51\n",
       "Name: File, dtype: int64"
      ]
     },
     "execution_count": 20,
     "metadata": {},
     "output_type": "execute_result"
    }
   ],
   "source": [
    "#janelas de não crise\n",
    "df['File'].value_counts()"
   ]
  },
  {
   "cell_type": "markdown",
   "metadata": {},
   "source": [
    "# Testando em tudo\n",
    "Sinais de 4 canais, 6000 amostras, frequencia = 200/sec"
   ]
  },
  {
   "cell_type": "code",
   "execution_count": 21,
   "metadata": {},
   "outputs": [
    {
     "data": {
      "text/plain": [
       "Index(['EEG C3-P3', 'EEG C4-P4', 'EEG P3-P4', 'EEG A1-A2'], dtype='object')"
      ]
     },
     "execution_count": 21,
     "metadata": {},
     "output_type": "execute_result"
    }
   ],
   "source": [
    "df['Data'].values[0].columns"
   ]
  },
  {
   "cell_type": "code",
   "execution_count": 22,
   "metadata": {},
   "outputs": [],
   "source": [
    "dictStftArrayFinal = {}"
   ]
  },
  {
   "cell_type": "code",
   "execution_count": 23,
   "metadata": {},
   "outputs": [],
   "source": []
  },
  {
   "cell_type": "code",
   "execution_count": 24,
   "metadata": {},
   "outputs": [],
   "source": [
    "from tqdm import tqdm"
   ]
  },
  {
   "cell_type": "code",
   "execution_count": 25,
   "metadata": {},
   "outputs": [],
   "source": [
    "fs = 200 # Hz\n",
    "n = 5*fs # 5 seg"
   ]
  },
  {
   "cell_type": "code",
   "execution_count": 27,
   "metadata": {
    "scrolled": true
   },
   "outputs": [
    {
     "name": "stderr",
     "output_type": "stream",
     "text": [
      "657it [00:08, 76.42it/s] \n",
      "51it [00:00, 262.43it/s]\n",
      "3755it [04:18, 14.54it/s]\n",
      "5550it [09:24,  9.82it/s]\n",
      "1120it [00:22, 50.00it/s]\n",
      "11234it [38:12,  4.90it/s]\n",
      "2911it [02:33, 18.96it/s]\n",
      "784it [00:11, 68.67it/s] \n",
      "503it [00:04, 106.12it/s]\n",
      "1945it [01:05, 29.61it/s]\n",
      "2946it [02:37, 18.73it/s]\n",
      "84it [00:00, 255.85it/s]"
     ]
    },
    {
     "name": "stdout",
     "output_type": "stream",
     "text": [
      "CPU times: user 29min 48s, sys: 29min 21s, total: 59min 10s\n",
      "Wall time: 59min\n"
     ]
    },
    {
     "name": "stderr",
     "output_type": "stream",
     "text": [
      "\n"
     ]
    }
   ],
   "source": [
    "%%time\n",
    "for bb in df['File'].unique():\n",
    "    \n",
    "    stftArrayFinal = None\n",
    "    tgt = None\n",
    "    \n",
    "    for i,row in tqdm(df[df['File'] == bb].reset_index(drop=True).iterrows()):\n",
    "\n",
    "        subDf = row['Data']\n",
    "        dfArray = []\n",
    "        #print(row['File'])\n",
    "\n",
    "        for col in ['EEG C3-P3', 'EEG C4-P4', 'EEG P3-P4', 'EEG A1-A2']:\n",
    "\n",
    "            #print(col)\n",
    "            #print('Min:', np.min(np.abs(subDf[col].values)),'Max:', np.max(np.abs(subDf[col].values)))\n",
    "\n",
    "\n",
    "            signalz = subDf[col].values/np.max(np.abs(subDf[col].values))\n",
    "            signalz = butter_bandpass_filter(signalz, 0.5, 75, fs, order=6)\n",
    "            dfArray.append(signalz)\n",
    "\n",
    "        #print(' --- ')\n",
    "\n",
    "        stftArray = []\n",
    "        target = []\n",
    "\n",
    "        for array in dfArray:\n",
    "\n",
    "            subArray = [np.abs(np.fft.rfft(array[i:i + n]))/np.max(np.abs(np.fft.rfft(array[i:i + n]))) for i in range(0, len(array), n) if len(array[i:i + n]) == n]\n",
    "\n",
    "            stftArray.append(np.array(subArray))\n",
    "\n",
    "        stftArray = np.array(stftArray)\n",
    "\n",
    "        if row['Target'] == 0:\n",
    "            tar = np.ones((stftArray.shape[1],))\n",
    "        else:\n",
    "            tar = np.zeros((stftArray.shape[1],))\n",
    "\n",
    "        if i == 0:\n",
    "            stftArrayFinal = stftArray.copy()\n",
    "            tgt = tar.copy()\n",
    "        else:\n",
    "            stftArrayFinal = np.concatenate((stftArrayFinal,stftArray),axis=1)\n",
    "            tgt = np.concatenate((tgt,tar),axis=0)\n",
    "            \n",
    "    arrayt = []\n",
    "    for t in tgt:\n",
    "        if t == 0:\n",
    "            arrayt.append([0,1])\n",
    "        else:\n",
    "            arrayt.append([1,0])\n",
    "\n",
    "    tgt  = np.array(arrayt)\n",
    "    \n",
    "    stftArrayFinal = np.expand_dims(np.swapaxes(np.swapaxes(stftArrayFinal,0,1),1,2),axis=3)\n",
    "    \n",
    "    dictStftArrayFinal[bb] = { 'array' : stftArrayFinal, 'target' : tgt }"
   ]
  },
  {
   "cell_type": "code",
   "execution_count": 28,
   "metadata": {},
   "outputs": [],
   "source": [
    "save_to_file(dictStftArrayFinal, 'dictStftArrayFinal.pkl')"
   ]
  },
  {
   "cell_type": "markdown",
   "metadata": {},
   "source": [
    "## Model"
   ]
  },
  {
   "cell_type": "code",
   "execution_count": 29,
   "metadata": {},
   "outputs": [],
   "source": [
    "del df, neg, pos"
   ]
  },
  {
   "cell_type": "code",
   "execution_count": 30,
   "metadata": {},
   "outputs": [],
   "source": [
    "del subDf"
   ]
  },
  {
   "cell_type": "code",
   "execution_count": 31,
   "metadata": {},
   "outputs": [
    {
     "data": {
      "text/plain": [
       "160"
      ]
     },
     "execution_count": 31,
     "metadata": {},
     "output_type": "execute_result"
    }
   ],
   "source": [
    "import gc\n",
    "gc.collect()"
   ]
  },
  {
   "cell_type": "markdown",
   "metadata": {},
   "source": [
    "# Neural Network"
   ]
  },
  {
   "cell_type": "code",
   "execution_count": 8,
   "metadata": {},
   "outputs": [],
   "source": [
    "dictStftArrayFinal = load_file('../dictStftArrayFinal.pkl')"
   ]
  },
  {
   "cell_type": "code",
   "execution_count": 9,
   "metadata": {},
   "outputs": [
    {
     "data": {
      "text/plain": [
       "dict_keys(['danila_ramos.edf', 'danila_ramos_3.edf', 'danila_ramos_4.edf', 'danila_ramos_5.edf', 'fabiana_1.edf', 'murilo_1.edf', 'remise_jean.edf', 'gilmara_cristina.edf', 'juliana_lima_1.edf', 'juliana_lima_2.edf', 'marilene.edf', 'sarah_jadach.edf'])"
      ]
     },
     "execution_count": 9,
     "metadata": {},
     "output_type": "execute_result"
    }
   ],
   "source": [
    "dictStftArrayFinal.keys()"
   ]
  },
  {
   "cell_type": "markdown",
   "metadata": {},
   "source": [
    "# Treino em Todos Menos  \"murilo_1.edf\""
   ]
  },
  {
   "cell_type": "code",
   "execution_count": 10,
   "metadata": {},
   "outputs": [],
   "source": [
    "tgt = None\n",
    "stftArrayFinal = None"
   ]
  },
  {
   "cell_type": "code",
   "execution_count": 11,
   "metadata": {},
   "outputs": [],
   "source": [
    "for i,bb in enumerate(dictStftArrayFinal.keys()):\n",
    "    \n",
    "    if bb != 'murilo_1.edf':\n",
    "    \n",
    "        if i == 0:\n",
    "            \n",
    "            tgt = dictStftArrayFinal[bb]['target'].copy()\n",
    "            stftArrayFinal = dictStftArrayFinal[bb]['array'].copy()\n",
    "            \n",
    "        else:\n",
    "            stftArrayFinal = np.concatenate((stftArrayFinal, dictStftArrayFinal[bb]['array']))\n",
    "            tgt = np.concatenate((tgt, dictStftArrayFinal[bb]['target']))"
   ]
  },
  {
   "cell_type": "code",
   "execution_count": 12,
   "metadata": {},
   "outputs": [
    {
     "data": {
      "text/plain": [
       "(121836, 501, 4, 1)"
      ]
     },
     "execution_count": 12,
     "metadata": {},
     "output_type": "execute_result"
    }
   ],
   "source": [
    "#(10816, 201, 5, 1)\n",
    "stftArrayFinal.shape"
   ]
  },
  {
   "cell_type": "code",
   "execution_count": 13,
   "metadata": {},
   "outputs": [],
   "source": [
    "from sklearn.utils import resample"
   ]
  },
  {
   "cell_type": "code",
   "execution_count": 15,
   "metadata": {},
   "outputs": [],
   "source": [
    "tgt = pd.DataFrame(tgt)"
   ]
  },
  {
   "cell_type": "code",
   "execution_count": 34,
   "metadata": {},
   "outputs": [
    {
     "data": {
      "text/plain": [
       "1    113862\n",
       "0      7974\n",
       "Name: 0, dtype: int64"
      ]
     },
     "execution_count": 34,
     "metadata": {},
     "output_type": "execute_result"
    }
   ],
   "source": [
    "tgt[0].value_counts()"
   ]
  },
  {
   "cell_type": "markdown",
   "metadata": {},
   "source": [
    "## upsampling"
   ]
  },
  {
   "cell_type": "code",
   "execution_count": 32,
   "metadata": {},
   "outputs": [],
   "source": [
    "list_indexes = list(tgt[tgt[0] == 0].index)"
   ]
  },
  {
   "cell_type": "code",
   "execution_count": 37,
   "metadata": {},
   "outputs": [
    {
     "data": {
      "text/plain": [
       "79740"
      ]
     },
     "execution_count": 37,
     "metadata": {},
     "output_type": "execute_result"
    }
   ],
   "source": [
    "len(list_indexes)*10"
   ]
  },
  {
   "cell_type": "code",
   "execution_count": 42,
   "metadata": {},
   "outputs": [],
   "source": [
    "for i in np.arange(0,10):\n",
    "    tgt = pd.concat([tgt,tgt.iloc[list_indexes]],axis=0).reset_index(drop=True)\n",
    "    stftArrayFinal = np.concatenate((stftArrayFinal, stftArrayFinal[list_indexes,:,:,:]))"
   ]
  },
  {
   "cell_type": "code",
   "execution_count": 43,
   "metadata": {},
   "outputs": [
    {
     "data": {
      "text/plain": [
       "((501, 4, 1), 2)"
      ]
     },
     "execution_count": 43,
     "metadata": {},
     "output_type": "execute_result"
    }
   ],
   "source": [
    "#input_shape = (img_rows, img_cols, 1)\n",
    "input_shape = stftArrayFinal[0].shape\n",
    "num_classes = 2\n",
    "batch_size = 512\n",
    "epochs = 300 #600\n",
    "input_shape,num_classes"
   ]
  },
  {
   "cell_type": "code",
   "execution_count": 44,
   "metadata": {},
   "outputs": [],
   "source": [
    "# CRIANDO MODELO\n",
    "inp = tf.keras.layers.Input(shape=input_shape)\n",
    "x = tf.keras.layers.Conv2D(32*20, kernel_size=(4, 1), strides=(2, 1))(inp)\n",
    "x = tf.keras.layers.Activation('relu')(x)\n",
    "x = tf.keras.layers.AveragePooling2D(pool_size=(3, 1))(x)\n",
    "x = tf.keras.layers.Dropout(rate=0.25)(x)\n",
    "x = tf.keras.layers.Conv2D(32*20, kernel_size=(1, 4), strides=(1, 1))(x)\n",
    "x = tf.keras.layers.Activation('relu')(x)\n",
    "x = tf.keras.layers.Dropout(rate=0.25)(x)\n",
    "x = tf.keras.layers.Flatten()(x)\n",
    "x = tf.keras.layers.Dense(1024, activation='relu')(x)\n",
    "x = tf.keras.layers.BatchNormalization()(x)\n",
    "x = tf.keras.layers.Dropout(rate=0.25)(x)\n",
    "x = tf.keras.layers.Dense(512, activation='relu')(x)\n",
    "x = tf.keras.layers.BatchNormalization()(x)\n",
    "x = tf.keras.layers.Dropout(rate=0.25)(x)\n",
    "x = tf.keras.layers.Dense(128, activation='relu')(x)\n",
    "x = tf.keras.layers.BatchNormalization()(x)\n",
    "x = tf.keras.layers.Dropout(rate=0.25)(x)\n",
    "x = tf.keras.layers.Dense(64, activation='relu')(x)\n",
    "x = tf.keras.layers.BatchNormalization()(x)\n",
    "x = tf.keras.layers.Dropout(rate=0.25)(x)\n",
    "x = tf.keras.layers.Dense(16, activation='relu')(x)\n",
    "x = tf.keras.layers.BatchNormalization()(x)\n",
    "x = tf.keras.layers.Dropout(rate=0.25)(x)\n",
    "#\n",
    "#\n",
    "#\n",
    "eeg = tf.keras.layers.Dense(num_classes,activation='softmax',name='output')(x)\n",
    "\n",
    "model = tf.keras.models.Model(inputs=inp,outputs=[eeg])"
   ]
  },
  {
   "cell_type": "code",
   "execution_count": 45,
   "metadata": {},
   "outputs": [
    {
     "name": "stdout",
     "output_type": "stream",
     "text": [
      "Model: \"functional_1\"\n",
      "_________________________________________________________________\n",
      "Layer (type)                 Output Shape              Param #   \n",
      "=================================================================\n",
      "input_1 (InputLayer)         [(None, 501, 4, 1)]       0         \n",
      "_________________________________________________________________\n",
      "conv2d (Conv2D)              (None, 249, 4, 640)       3200      \n",
      "_________________________________________________________________\n",
      "activation (Activation)      (None, 249, 4, 640)       0         \n",
      "_________________________________________________________________\n",
      "average_pooling2d (AveragePo (None, 83, 4, 640)        0         \n",
      "_________________________________________________________________\n",
      "dropout (Dropout)            (None, 83, 4, 640)        0         \n",
      "_________________________________________________________________\n",
      "conv2d_1 (Conv2D)            (None, 83, 1, 640)        1639040   \n",
      "_________________________________________________________________\n",
      "activation_1 (Activation)    (None, 83, 1, 640)        0         \n",
      "_________________________________________________________________\n",
      "dropout_1 (Dropout)          (None, 83, 1, 640)        0         \n",
      "_________________________________________________________________\n",
      "flatten (Flatten)            (None, 53120)             0         \n",
      "_________________________________________________________________\n",
      "dense (Dense)                (None, 1024)              54395904  \n",
      "_________________________________________________________________\n",
      "batch_normalization (BatchNo (None, 1024)              4096      \n",
      "_________________________________________________________________\n",
      "dropout_2 (Dropout)          (None, 1024)              0         \n",
      "_________________________________________________________________\n",
      "dense_1 (Dense)              (None, 512)               524800    \n",
      "_________________________________________________________________\n",
      "batch_normalization_1 (Batch (None, 512)               2048      \n",
      "_________________________________________________________________\n",
      "dropout_3 (Dropout)          (None, 512)               0         \n",
      "_________________________________________________________________\n",
      "dense_2 (Dense)              (None, 128)               65664     \n",
      "_________________________________________________________________\n",
      "batch_normalization_2 (Batch (None, 128)               512       \n",
      "_________________________________________________________________\n",
      "dropout_4 (Dropout)          (None, 128)               0         \n",
      "_________________________________________________________________\n",
      "dense_3 (Dense)              (None, 64)                8256      \n",
      "_________________________________________________________________\n",
      "batch_normalization_3 (Batch (None, 64)                256       \n",
      "_________________________________________________________________\n",
      "dropout_5 (Dropout)          (None, 64)                0         \n",
      "_________________________________________________________________\n",
      "dense_4 (Dense)              (None, 16)                1040      \n",
      "_________________________________________________________________\n",
      "batch_normalization_4 (Batch (None, 16)                64        \n",
      "_________________________________________________________________\n",
      "dropout_6 (Dropout)          (None, 16)                0         \n",
      "_________________________________________________________________\n",
      "output (Dense)               (None, 2)                 34        \n",
      "=================================================================\n",
      "Total params: 56,644,914\n",
      "Trainable params: 56,641,426\n",
      "Non-trainable params: 3,488\n",
      "_________________________________________________________________\n"
     ]
    }
   ],
   "source": [
    "model.summary()"
   ]
  },
  {
   "cell_type": "code",
   "execution_count": 46,
   "metadata": {},
   "outputs": [],
   "source": [
    "model.compile(loss=\"categorical_crossentropy\",\n",
    "              optimizer='adam',\n",
    "              metrics=['AUC'])"
   ]
  },
  {
   "cell_type": "code",
   "execution_count": 47,
   "metadata": {
    "scrolled": true
   },
   "outputs": [
    {
     "name": "stdout",
     "output_type": "stream",
     "text": [
      "Epoch 1/300\n",
      "394/394 [==============================] - 468s 1s/step - loss: 0.2351 - auc: 0.9668 - val_loss: 0.0879 - val_auc: 0.9949\n",
      "Epoch 2/300\n",
      "394/394 [==============================] - 462s 1s/step - loss: 0.1303 - auc: 0.9892 - val_loss: 0.1790 - val_auc: 0.9799\n",
      "Epoch 3/300\n",
      "394/394 [==============================] - 460s 1s/step - loss: 0.0993 - auc: 0.9934 - val_loss: 0.1269 - val_auc: 0.9900\n",
      "Epoch 4/300\n",
      "394/394 [==============================] - 459s 1s/step - loss: 0.0796 - auc: 0.9955 - val_loss: 0.1191 - val_auc: 0.9906\n",
      "Epoch 5/300\n",
      "394/394 [==============================] - 459s 1s/step - loss: 0.0678 - auc: 0.9966 - val_loss: 0.2393 - val_auc: 0.9768\n",
      "Epoch 6/300\n",
      "394/394 [==============================] - 459s 1s/step - loss: 0.0596 - auc: 0.9971 - val_loss: 0.1736 - val_auc: 0.9851\n",
      "Epoch 7/300\n",
      "394/394 [==============================] - 459s 1s/step - loss: 0.0514 - auc: 0.9977 - val_loss: 0.1081 - val_auc: 0.9883\n",
      "Epoch 8/300\n",
      "394/394 [==============================] - 458s 1s/step - loss: 0.0453 - auc: 0.9981 - val_loss: 0.1238 - val_auc: 0.9904\n",
      "Epoch 9/300\n",
      "394/394 [==============================] - 458s 1s/step - loss: 0.0409 - auc: 0.9983 - val_loss: 0.1071 - val_auc: 0.9919\n",
      "Epoch 10/300\n",
      "394/394 [==============================] - 458s 1s/step - loss: 0.0369 - auc: 0.9986 - val_loss: 0.1379 - val_auc: 0.9878\n",
      "Epoch 11/300\n",
      "394/394 [==============================] - 458s 1s/step - loss: 0.0341 - auc: 0.9986 - val_loss: 0.1433 - val_auc: 0.9851\n"
     ]
    },
    {
     "data": {
      "text/plain": [
       "<tensorflow.python.keras.callbacks.History at 0x7fa561c8d250>"
      ]
     },
     "execution_count": 47,
     "metadata": {},
     "output_type": "execute_result"
    }
   ],
   "source": [
    "earlyStopping = tf.keras.callbacks.EarlyStopping(monitor='val_loss', patience=10,verbose=0, mode='min')\n",
    "mcp_save = tf.keras.callbacks.ModelCheckpoint('bestAutoSave_murilo.hdf5', save_best_only=True, monitor='val_loss', mode='auto')\n",
    "#reduce_lr_loss = tf.keras.callbacks.ReduceLROnPlateau(monitor='val_loss', factor=0.1, patience=5, verbose=0, min_delta=1e-4, mode='auto')\n",
    "\n",
    "model.fit(\n",
    "    stftArrayFinal, tgt,\n",
    "    batch_size=batch_size,\n",
    "    epochs=epochs,\n",
    "    shuffle = True,\n",
    "    validation_data=(dictStftArrayFinal['murilo_1.edf']['array'], dictStftArrayFinal['murilo_1.edf']['target']),\n",
    "    callbacks=[mcp_save, earlyStopping],\n",
    "    verbose=1\n",
    ")"
   ]
  },
  {
   "cell_type": "code",
   "execution_count": 48,
   "metadata": {},
   "outputs": [],
   "source": [
    "model.save_weights(\"./modelo_murilo.hdf5\")"
   ]
  },
  {
   "cell_type": "code",
   "execution_count": 49,
   "metadata": {},
   "outputs": [],
   "source": [
    "model.load_weights('./bestAutoSave_murilo.hdf5')"
   ]
  },
  {
   "cell_type": "code",
   "execution_count": 50,
   "metadata": {},
   "outputs": [],
   "source": [
    "y_pred = model.predict(dictStftArrayFinal['murilo_1.edf']['array'])"
   ]
  },
  {
   "cell_type": "code",
   "execution_count": 51,
   "metadata": {},
   "outputs": [
    {
     "data": {
      "image/png": "[encoded data removed]",
      "text/plain": [
       "<Figure size 576x576 with 1 Axes>"
      ]
     },
     "metadata": {
      "needs_background": "light"
     },
     "output_type": "display_data"
    }
   ],
   "source": [
    "cria_curva_roc_auc(model,dictStftArrayFinal['murilo_1.edf']['array'],dictStftArrayFinal['murilo_1.edf']['target'][:,1])"
   ]
  },
  {
   "cell_type": "code",
   "execution_count": 52,
   "metadata": {},
   "outputs": [
    {
     "name": "stdout",
     "output_type": "stream",
     "text": [
      "Limiar que maxima especificidade e sensitividade:\n",
      "[0.05009077489376068]\n",
      "Precision 0.07320402298850574\n",
      "Recall 0.8048973143759873\n",
      "Acuracia 0.8049373924396178\n",
      "F-Score 0.13420255498485448\n",
      "Roc-AUC 0.8988535365065825\n"
     ]
    }
   ],
   "source": [
    "limiar_escore(model,dictStftArrayFinal['murilo_1.edf']['array'],dictStftArrayFinal['murilo_1.edf']['target'][:,1])"
   ]
  },
  {
   "cell_type": "code",
   "execution_count": 53,
   "metadata": {},
   "outputs": [
    {
     "data": {
      "text/plain": [
       "array([[59126,  7012],\n",
       "       [  377,   889]])"
      ]
     },
     "execution_count": 53,
     "metadata": {},
     "output_type": "execute_result"
    }
   ],
   "source": [
    "confusion_matrix(dictStftArrayFinal['murilo_1.edf']['target'][:,1], [1 if x >= 0.1 else 0 for x in y_pred[:,1]])"
   ]
  },
  {
   "cell_type": "markdown",
   "metadata": {},
   "source": [
    "# Treino em Todos Menos  \"remise_jean.edf\""
   ]
  },
  {
   "cell_type": "code",
   "execution_count": 54,
   "metadata": {},
   "outputs": [],
   "source": [
    "tgt = None\n",
    "stftArrayFinal = None"
   ]
  },
  {
   "cell_type": "code",
   "execution_count": 55,
   "metadata": {},
   "outputs": [],
   "source": [
    "for i,bb in enumerate(dictStftArrayFinal.keys()):\n",
    "    \n",
    "    if bb != 'remise_jean.edf':\n",
    "    \n",
    "        if i == 0:\n",
    "            \n",
    "            tgt = dictStftArrayFinal[bb]['target'].copy()\n",
    "            stftArrayFinal = dictStftArrayFinal[bb]['array'].copy()\n",
    "            \n",
    "        else:\n",
    "            stftArrayFinal = np.concatenate((stftArrayFinal, dictStftArrayFinal[bb]['array']))\n",
    "            tgt = np.concatenate((tgt, dictStftArrayFinal[bb]['target']))"
   ]
  },
  {
   "cell_type": "code",
   "execution_count": 56,
   "metadata": {},
   "outputs": [
    {
     "data": {
      "text/plain": [
       "(171774, 501, 4, 1)"
      ]
     },
     "execution_count": 56,
     "metadata": {},
     "output_type": "execute_result"
    }
   ],
   "source": [
    "#(10816, 201, 5, 1)\n",
    "stftArrayFinal.shape"
   ]
  },
  {
   "cell_type": "markdown",
   "metadata": {},
   "source": [
    "## upsampling"
   ]
  },
  {
   "cell_type": "code",
   "execution_count": 58,
   "metadata": {},
   "outputs": [],
   "source": [
    "tgt = pd.DataFrame(tgt)"
   ]
  },
  {
   "cell_type": "code",
   "execution_count": 59,
   "metadata": {},
   "outputs": [],
   "source": [
    "list_indexes = list(tgt[tgt[0] == 0].index)"
   ]
  },
  {
   "cell_type": "code",
   "execution_count": 60,
   "metadata": {},
   "outputs": [
    {
     "data": {
      "text/plain": [
       "86760"
      ]
     },
     "execution_count": 60,
     "metadata": {},
     "output_type": "execute_result"
    }
   ],
   "source": [
    "len(list_indexes)*10"
   ]
  },
  {
   "cell_type": "code",
   "execution_count": 61,
   "metadata": {},
   "outputs": [],
   "source": [
    "for i in np.arange(0,10):\n",
    "    tgt = pd.concat([tgt,tgt.iloc[list_indexes]],axis=0).reset_index(drop=True)\n",
    "    stftArrayFinal = np.concatenate((stftArrayFinal, stftArrayFinal[list_indexes,:,:,:]))"
   ]
  },
  {
   "cell_type": "code",
   "execution_count": 62,
   "metadata": {},
   "outputs": [
    {
     "data": {
      "text/plain": [
       "((501, 4, 1), 2)"
      ]
     },
     "execution_count": 62,
     "metadata": {},
     "output_type": "execute_result"
    }
   ],
   "source": [
    "#input_shape = (img_rows, img_cols, 1)\n",
    "input_shape = stftArrayFinal[0].shape\n",
    "num_classes = 2\n",
    "batch_size = 256\n",
    "epochs = 300 #600\n",
    "input_shape,num_classes"
   ]
  },
  {
   "cell_type": "code",
   "execution_count": 63,
   "metadata": {},
   "outputs": [],
   "source": [
    "# CRIANDO MODELO\n",
    "inp = tf.keras.layers.Input(shape=input_shape)\n",
    "x = tf.keras.layers.Conv2D(32*20, kernel_size=(4, 1), strides=(2, 1))(inp)\n",
    "x = tf.keras.layers.Activation('relu')(x)\n",
    "x = tf.keras.layers.AveragePooling2D(pool_size=(3, 1))(x)\n",
    "x = tf.keras.layers.Dropout(rate=0.25)(x)\n",
    "x = tf.keras.layers.Conv2D(32*20, kernel_size=(1, 4), strides=(1, 1))(x)\n",
    "x = tf.keras.layers.Activation('relu')(x)\n",
    "x = tf.keras.layers.Dropout(rate=0.25)(x)\n",
    "x = tf.keras.layers.Flatten()(x)\n",
    "x = tf.keras.layers.Dense(1024, activation='relu')(x)\n",
    "x = tf.keras.layers.BatchNormalization()(x)\n",
    "x = tf.keras.layers.Dropout(rate=0.25)(x)\n",
    "x = tf.keras.layers.Dense(512, activation='relu')(x)\n",
    "x = tf.keras.layers.BatchNormalization()(x)\n",
    "x = tf.keras.layers.Dropout(rate=0.25)(x)\n",
    "x = tf.keras.layers.Dense(128, activation='relu')(x)\n",
    "x = tf.keras.layers.BatchNormalization()(x)\n",
    "x = tf.keras.layers.Dropout(rate=0.25)(x)\n",
    "x = tf.keras.layers.Dense(64, activation='relu')(x)\n",
    "x = tf.keras.layers.BatchNormalization()(x)\n",
    "x = tf.keras.layers.Dropout(rate=0.25)(x)\n",
    "x = tf.keras.layers.Dense(16, activation='relu')(x)\n",
    "x = tf.keras.layers.BatchNormalization()(x)\n",
    "x = tf.keras.layers.Dropout(rate=0.25)(x)\n",
    "#\n",
    "#\n",
    "#\n",
    "eeg = tf.keras.layers.Dense(num_classes,activation='softmax',name='output')(x)\n",
    "\n",
    "model = tf.keras.models.Model(inputs=inp,outputs=[eeg])"
   ]
  },
  {
   "cell_type": "code",
   "execution_count": 64,
   "metadata": {},
   "outputs": [
    {
     "name": "stdout",
     "output_type": "stream",
     "text": [
      "Model: \"functional_3\"\n",
      "_________________________________________________________________\n",
      "Layer (type)                 Output Shape              Param #   \n",
      "=================================================================\n",
      "input_2 (InputLayer)         [(None, 501, 4, 1)]       0         \n",
      "_________________________________________________________________\n",
      "conv2d_2 (Conv2D)            (None, 249, 4, 640)       3200      \n",
      "_________________________________________________________________\n",
      "activation_2 (Activation)    (None, 249, 4, 640)       0         \n",
      "_________________________________________________________________\n",
      "average_pooling2d_1 (Average (None, 83, 4, 640)        0         \n",
      "_________________________________________________________________\n",
      "dropout_7 (Dropout)          (None, 83, 4, 640)        0         \n",
      "_________________________________________________________________\n",
      "conv2d_3 (Conv2D)            (None, 83, 1, 640)        1639040   \n",
      "_________________________________________________________________\n",
      "activation_3 (Activation)    (None, 83, 1, 640)        0         \n",
      "_________________________________________________________________\n",
      "dropout_8 (Dropout)          (None, 83, 1, 640)        0         \n",
      "_________________________________________________________________\n",
      "flatten_1 (Flatten)          (None, 53120)             0         \n",
      "_________________________________________________________________\n",
      "dense_5 (Dense)              (None, 1024)              54395904  \n",
      "_________________________________________________________________\n",
      "batch_normalization_5 (Batch (None, 1024)              4096      \n",
      "_________________________________________________________________\n",
      "dropout_9 (Dropout)          (None, 1024)              0         \n",
      "_________________________________________________________________\n",
      "dense_6 (Dense)              (None, 512)               524800    \n",
      "_________________________________________________________________\n",
      "batch_normalization_6 (Batch (None, 512)               2048      \n",
      "_________________________________________________________________\n",
      "dropout_10 (Dropout)         (None, 512)               0         \n",
      "_________________________________________________________________\n",
      "dense_7 (Dense)              (None, 128)               65664     \n",
      "_________________________________________________________________\n",
      "batch_normalization_7 (Batch (None, 128)               512       \n",
      "_________________________________________________________________\n",
      "dropout_11 (Dropout)         (None, 128)               0         \n",
      "_________________________________________________________________\n",
      "dense_8 (Dense)              (None, 64)                8256      \n",
      "_________________________________________________________________\n",
      "batch_normalization_8 (Batch (None, 64)                256       \n",
      "_________________________________________________________________\n",
      "dropout_12 (Dropout)         (None, 64)                0         \n",
      "_________________________________________________________________\n",
      "dense_9 (Dense)              (None, 16)                1040      \n",
      "_________________________________________________________________\n",
      "batch_normalization_9 (Batch (None, 16)                64        \n",
      "_________________________________________________________________\n",
      "dropout_13 (Dropout)         (None, 16)                0         \n",
      "_________________________________________________________________\n",
      "output (Dense)               (None, 2)                 34        \n",
      "=================================================================\n",
      "Total params: 56,644,914\n",
      "Trainable params: 56,641,426\n",
      "Non-trainable params: 3,488\n",
      "_________________________________________________________________\n"
     ]
    }
   ],
   "source": [
    "model.summary()"
   ]
  },
  {
   "cell_type": "code",
   "execution_count": 65,
   "metadata": {},
   "outputs": [],
   "source": [
    "model.compile(loss=\"categorical_crossentropy\",\n",
    "              optimizer='adam',\n",
    "              metrics=['AUC'])"
   ]
  },
  {
   "cell_type": "code",
   "execution_count": 66,
   "metadata": {
    "scrolled": true
   },
   "outputs": [
    {
     "name": "stdout",
     "output_type": "stream",
     "text": [
      "Epoch 1/300\n",
      "1010/1010 [==============================] - 505s 500ms/step - loss: 0.1566 - auc: 0.9843 - val_loss: 1.4120 - val_auc: 0.3856\n",
      "Epoch 2/300\n",
      "1010/1010 [==============================] - 498s 493ms/step - loss: 0.0954 - auc: 0.9938 - val_loss: 1.5541 - val_auc: 0.2923\n",
      "Epoch 3/300\n",
      "1010/1010 [==============================] - 496s 492ms/step - loss: 0.0787 - auc: 0.9956 - val_loss: 2.0562 - val_auc: 0.3615\n",
      "Epoch 4/300\n",
      "1010/1010 [==============================] - 500s 495ms/step - loss: 0.0692 - auc: 0.9964 - val_loss: 1.1415 - val_auc: 0.5199\n",
      "Epoch 5/300\n",
      "1010/1010 [==============================] - 495s 490ms/step - loss: 0.0608 - auc: 0.9970 - val_loss: 2.9421 - val_auc: 0.1896\n",
      "Epoch 6/300\n",
      "1010/1010 [==============================] - 494s 489ms/step - loss: 0.0539 - auc: 0.9976 - val_loss: 1.1539 - val_auc: 0.6943\n",
      "Epoch 7/300\n",
      "1010/1010 [==============================] - 494s 489ms/step - loss: 0.0474 - auc: 0.9980 - val_loss: 2.4281 - val_auc: 0.3199\n",
      "Epoch 8/300\n",
      "1010/1010 [==============================] - 493s 489ms/step - loss: 0.0426 - auc: 0.9983 - val_loss: 1.6661 - val_auc: 0.5266\n",
      "Epoch 9/300\n",
      "1010/1010 [==============================] - 498s 493ms/step - loss: 0.0388 - auc: 0.9985 - val_loss: 1.0953 - val_auc: 0.7318\n",
      "Epoch 10/300\n",
      "1010/1010 [==============================] - 498s 493ms/step - loss: 0.0350 - auc: 0.9987 - val_loss: 0.9673 - val_auc: 0.7739\n",
      "Epoch 11/300\n",
      "1010/1010 [==============================] - 493s 488ms/step - loss: 0.0314 - auc: 0.9988 - val_loss: 1.0486 - val_auc: 0.7181\n",
      "Epoch 12/300\n",
      "1010/1010 [==============================] - 493s 488ms/step - loss: 0.0290 - auc: 0.9990 - val_loss: 1.0221 - val_auc: 0.7879\n",
      "Epoch 13/300\n",
      "1010/1010 [==============================] - 493s 488ms/step - loss: 0.0266 - auc: 0.9990 - val_loss: 1.1194 - val_auc: 0.7283\n",
      "Epoch 14/300\n",
      "1010/1010 [==============================] - 498s 494ms/step - loss: 0.0237 - auc: 0.9991 - val_loss: 0.9110 - val_auc: 0.8330\n",
      "Epoch 15/300\n",
      "1010/1010 [==============================] - 497s 492ms/step - loss: 0.0220 - auc: 0.9993 - val_loss: 0.7113 - val_auc: 0.8728\n",
      "Epoch 16/300\n",
      "1010/1010 [==============================] - 493s 488ms/step - loss: 0.0198 - auc: 0.9993 - val_loss: 2.7088 - val_auc: 0.4354\n",
      "Epoch 17/300\n",
      "1010/1010 [==============================] - 493s 488ms/step - loss: 0.0177 - auc: 0.9994 - val_loss: 1.6509 - val_auc: 0.6561\n",
      "Epoch 18/300\n",
      "1010/1010 [==============================] - 493s 488ms/step - loss: 0.0168 - auc: 0.9994 - val_loss: 1.2895 - val_auc: 0.7343\n",
      "Epoch 19/300\n",
      "1010/1010 [==============================] - 492s 487ms/step - loss: 0.0152 - auc: 0.9995 - val_loss: 1.0910 - val_auc: 0.7854\n",
      "Epoch 20/300\n",
      "1010/1010 [==============================] - 492s 488ms/step - loss: 0.0140 - auc: 0.9995 - val_loss: 1.6902 - val_auc: 0.6281\n",
      "Epoch 21/300\n",
      "1010/1010 [==============================] - 492s 487ms/step - loss: 0.0127 - auc: 0.9996 - val_loss: 0.8233 - val_auc: 0.8568\n",
      "Epoch 22/300\n",
      "1010/1010 [==============================] - 492s 487ms/step - loss: 0.0120 - auc: 0.9996 - val_loss: 1.9917 - val_auc: 0.5975\n",
      "Epoch 23/300\n",
      "1010/1010 [==============================] - 497s 492ms/step - loss: 0.0113 - auc: 0.9997 - val_loss: 0.6330 - val_auc: 0.9059\n",
      "Epoch 24/300\n",
      "1010/1010 [==============================] - 493s 489ms/step - loss: 0.0106 - auc: 0.9997 - val_loss: 1.6308 - val_auc: 0.7039\n",
      "Epoch 25/300\n",
      "1010/1010 [==============================] - 492s 488ms/step - loss: 0.0102 - auc: 0.9997 - val_loss: 1.0687 - val_auc: 0.8252\n",
      "Epoch 26/300\n",
      "1010/1010 [==============================] - 492s 488ms/step - loss: 0.0092 - auc: 0.9997 - val_loss: 0.9260 - val_auc: 0.8341\n",
      "Epoch 27/300\n",
      "1010/1010 [==============================] - 492s 488ms/step - loss: 0.0086 - auc: 0.9998 - val_loss: 1.7390 - val_auc: 0.6996\n",
      "Epoch 28/300\n",
      "1010/1010 [==============================] - 492s 488ms/step - loss: 0.0081 - auc: 0.9998 - val_loss: 1.0303 - val_auc: 0.8262\n",
      "Epoch 29/300\n",
      "1010/1010 [==============================] - 497s 492ms/step - loss: 0.0080 - auc: 0.9998 - val_loss: 0.5651 - val_auc: 0.9249\n",
      "Epoch 30/300\n",
      "1010/1010 [==============================] - 493s 488ms/step - loss: 0.0071 - auc: 0.9998 - val_loss: 1.0457 - val_auc: 0.8248\n",
      "Epoch 31/300\n",
      "1010/1010 [==============================] - 492s 487ms/step - loss: 0.0067 - auc: 0.9998 - val_loss: 1.9703 - val_auc: 0.6627\n",
      "Epoch 32/300\n",
      "1010/1010 [==============================] - 492s 487ms/step - loss: 0.0071 - auc: 0.9998 - val_loss: 1.4551 - val_auc: 0.7593\n",
      "Epoch 33/300\n",
      "1010/1010 [==============================] - 493s 488ms/step - loss: 0.0059 - auc: 0.9998 - val_loss: 1.2550 - val_auc: 0.7930\n",
      "Epoch 34/300\n",
      "1010/1010 [==============================] - 493s 488ms/step - loss: 0.0060 - auc: 0.9998 - val_loss: 1.2679 - val_auc: 0.8032\n",
      "Epoch 35/300\n",
      "1010/1010 [==============================] - 493s 488ms/step - loss: 0.0053 - auc: 0.9999 - val_loss: 1.5601 - val_auc: 0.7532\n",
      "Epoch 36/300\n",
      "1010/1010 [==============================] - 492s 487ms/step - loss: 0.0052 - auc: 0.9998 - val_loss: 1.4158 - val_auc: 0.7693\n",
      "Epoch 37/300\n",
      "1010/1010 [==============================] - 492s 488ms/step - loss: 0.0057 - auc: 0.9999 - val_loss: 1.9563 - val_auc: 0.7184\n",
      "Epoch 38/300\n",
      "1010/1010 [==============================] - 493s 488ms/step - loss: 0.0053 - auc: 0.9999 - val_loss: 1.4292 - val_auc: 0.7923\n",
      "Epoch 39/300\n",
      "1010/1010 [==============================] - 493s 488ms/step - loss: 0.0056 - auc: 0.9998 - val_loss: 0.9493 - val_auc: 0.8566\n"
     ]
    },
    {
     "data": {
      "text/plain": [
       "<tensorflow.python.keras.callbacks.History at 0x7fa6154024d0>"
      ]
     },
     "execution_count": 66,
     "metadata": {},
     "output_type": "execute_result"
    }
   ],
   "source": [
    "earlyStopping = tf.keras.callbacks.EarlyStopping(monitor='val_loss', patience=10,verbose=0, mode='min')\n",
    "mcp_save = tf.keras.callbacks.ModelCheckpoint('bestAutoSave_remise.hdf5', save_best_only=True, monitor='val_loss', mode='auto')\n",
    "#reduce_lr_loss = tf.keras.callbacks.ReduceLROnPlateau(monitor='val_loss', factor=0.1, patience=5, verbose=0, min_delta=1e-4, mode='auto')\n",
    "\n",
    "model.fit(\n",
    "    stftArrayFinal, tgt,\n",
    "    batch_size=batch_size,\n",
    "    epochs=epochs,\n",
    "    shuffle = True,\n",
    "    validation_data=(dictStftArrayFinal['remise_jean.edf']['array'], dictStftArrayFinal['remise_jean.edf']['target']),\n",
    "    callbacks=[mcp_save, earlyStopping],\n",
    "    verbose=1\n",
    ")"
   ]
  },
  {
   "cell_type": "code",
   "execution_count": 67,
   "metadata": {},
   "outputs": [],
   "source": [
    "model.save_weights(\"./modelo_remise.hdf5\")"
   ]
  },
  {
   "cell_type": "code",
   "execution_count": 68,
   "metadata": {},
   "outputs": [],
   "source": [
    "model.load_weights('./bestAutoSave_remise.hdf5')"
   ]
  },
  {
   "cell_type": "code",
   "execution_count": 69,
   "metadata": {},
   "outputs": [
    {
     "data": {
      "image/png": "[encoded data removed]",
      "text/plain": [
       "<Figure size 576x576 with 1 Axes>"
      ]
     },
     "metadata": {
      "needs_background": "light"
     },
     "output_type": "display_data"
    }
   ],
   "source": [
    "cria_curva_roc_auc(model,dictStftArrayFinal['remise_jean.edf']['array'],dictStftArrayFinal['remise_jean.edf']['target'][:,1])"
   ]
  },
  {
   "cell_type": "code",
   "execution_count": 70,
   "metadata": {},
   "outputs": [
    {
     "name": "stdout",
     "output_type": "stream",
     "text": [
      "Limiar que maxima especificidade e sensitividade:\n",
      "[0.025648320093750954]\n",
      "Precision 0.08367181153533712\n",
      "Recall 0.7304964539007093\n",
      "Acuracia 0.73296690713386\n",
      "F-Score 0.15014577259475217\n",
      "Roc-AUC 0.7962187214404942\n"
     ]
    }
   ],
   "source": [
    "limiar_escore(model,dictStftArrayFinal['remise_jean.edf']['array'],dictStftArrayFinal['remise_jean.edf']['target'][:,1])"
   ]
  },
  {
   "cell_type": "code",
   "execution_count": 71,
   "metadata": {},
   "outputs": [],
   "source": [
    "y_pred = model.predict(dictStftArrayFinal['remise_jean.edf']['array'])"
   ]
  },
  {
   "cell_type": "code",
   "execution_count": 72,
   "metadata": {},
   "outputs": [
    {
     "data": {
      "text/plain": [
       "array([[13167,  3735],\n",
       "       [  190,   374]])"
      ]
     },
     "execution_count": 72,
     "metadata": {},
     "output_type": "execute_result"
    }
   ],
   "source": [
    "confusion_matrix(dictStftArrayFinal['remise_jean.edf']['target'][:,1], [1 if x >= 0.08519119024276733 else 0 for x in y_pred[:,1]])"
   ]
  },
  {
   "cell_type": "code",
   "execution_count": 73,
   "metadata": {},
   "outputs": [
    {
     "data": {
      "text/plain": [
       "0    16902\n",
       "1      564\n",
       "Name: 1, dtype: int64"
      ]
     },
     "execution_count": 73,
     "metadata": {},
     "output_type": "execute_result"
    }
   ],
   "source": [
    "pd.DataFrame(dictStftArrayFinal['remise_jean.edf']['target'])[1].value_counts()"
   ]
  },
  {
   "cell_type": "markdown",
   "metadata": {},
   "source": [
    "FIM"
   ]
  }
 ],
 "metadata": {
  "environment": {
   "name": "tf2-2-3-gpu.2-3.m58",
   "type": "gcloud",
   "uri": "gcr.io/deeplearning-platform-release/tf2-2-3-gpu.2-3:m58"
  },
  "kernelspec": {
   "display_name": "Python 3",
   "language": "python",
   "name": "python3"
  },
  "language_info": {
   "codemirror_mode": {
    "name": "ipython",
    "version": 3
   },
   "file_extension": ".py",
   "mimetype": "text/x-python",
   "name": "python",
   "nbconvert_exporter": "python",
   "pygments_lexer": "ipython3",
   "version": "3.7.8"
  }
 },
 "nbformat": 4,
 "nbformat_minor": 4
}
