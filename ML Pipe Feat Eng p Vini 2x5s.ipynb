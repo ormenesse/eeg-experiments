{
 "cells": [
  {
   "cell_type": "code",
   "execution_count": 2,
   "metadata": {
    "scrolled": true
   },
   "outputs": [],
   "source": [
    "import os\n",
    "import time\n",
    "import numpy as np\n",
    "import pandas as pd\n",
    "import lightgbm as lgb\n",
    "\n",
    "from sklearn.metrics import roc_auc_score, accuracy_score, confusion_matrix\n",
    "from sklearn.model_selection import validation_curve, train_test_split\n",
    "\n",
    "from tqdm.notebook import tqdm\n",
    "import matplotlib.pyplot as plt\n",
    "\n",
    "%matplotlib inline"
   ]
  },
  {
   "cell_type": "code",
   "execution_count": 3,
   "metadata": {},
   "outputs": [],
   "source": [
    "import pandas as pd\n",
    "import matplotlib.pyplot as plt\n",
    "import gc\n",
    "import scipy\n",
    "from scipy import signal\n",
    "from scipy.signal import butter, lfilter, freqz, stft\n",
    "from scipy.fft import fft\n",
    "import numpy as np\n",
    "import pickle\n",
    "import tensorflow as tf\n",
    "from sklearn.metrics import accuracy_score, confusion_matrix, matthews_corrcoef, roc_auc_score, roc_curve "
   ]
  },
  {
   "cell_type": "code",
   "execution_count": 4,
   "metadata": {},
   "outputs": [],
   "source": [
    "def cria_curva_roc_auc(modelo,df_verificacao,df_target):\n",
    "    predictions = modelo.predict(df_verificacao)\n",
    "    fpr, tpr, threshold = roc_curve(df_target, predictions[:,1])\n",
    "    plt.figure(figsize=(8,8))\n",
    "    lw = 2\n",
    "    plt.plot(fpr, tpr, color='darkorange',lw=lw, label='ROC curve (area = %0.2f)' % roc_auc_score(df_target, predictions[:,1]))\n",
    "    plt.plot([0, 1], [0, 1], color='navy', lw=lw, linestyle='--')\n",
    "    plt.xlim([0.0, 1.0])\n",
    "    plt.ylim([0.0, 1.05])\n",
    "    plt.xlabel('False Positive Rate')\n",
    "    plt.ylabel('True Positive Rate')\n",
    "    plt.title('Receiver operating characteristic REAIS')\n",
    "    plt.legend(loc=\"lower right\")\n",
    "    plt.show()\n",
    "    \n",
    "def limiar_escore(modelo,df_verificacao,df_target):\n",
    "    #Imprimindo limiar de Escore\n",
    "    predictions = modelo.predict(df_verificacao)\n",
    "    fpr, tpr, threshold = roc_curve(df_target, predictions[:,1])\n",
    "    i = np.arange(len(tpr)) \n",
    "    roc = pd.DataFrame({'tf' : pd.Series(tpr-(1-fpr), index=i), 'threshold' : pd.Series(threshold, index=i)})\n",
    "    roc_t = roc.loc[(roc.tf-0).abs().argsort()[:1]]\n",
    "    print('Limiar que maxima especificidade e sensitividade:')\n",
    "    print(list(roc_t['threshold']))\n",
    "    #analisando modelo com novo limiar\n",
    "    tn, fp, fn, tp = confusion_matrix(df_target, [1 if item>=list(roc_t['threshold'])[0] else 0 for item in predictions[:,1]]).ravel()\n",
    "    Precision = tp/(tp+fp)\n",
    "    Recall = tp/(tp+fn)\n",
    "    acuracia = (tp+tn)/(tn+fp+fn+tp)\n",
    "    F = (2*Precision*Recall)/(Precision+Recall)\n",
    "    print('Precision',Precision)\n",
    "    print('Recall',Recall)\n",
    "    print('Acuracia',acuracia)\n",
    "    print('F-Score',F)\n",
    "    print('Roc-AUC', roc_auc_score(df_target, predictions[:,1]))"
   ]
  },
  {
   "cell_type": "markdown",
   "metadata": {},
   "source": [
    "# Functions"
   ]
  },
  {
   "cell_type": "code",
   "execution_count": 5,
   "metadata": {},
   "outputs": [],
   "source": [
    "def plot_eeg(df, name='', save=False):\n",
    "    fig, rows = plt.subplots(nrows=4, sharex=True, figsize=(17,10))\n",
    "    fig.patch.set_visible(False)\n",
    "    fig.tight_layout()\n",
    "\n",
    "    for ax, col in zip(rows, df.columns):\n",
    "        ax.plot(df[col])\n",
    "        ax.title.set_text(col + \"_\" + name)\n",
    "        ax.set_ylim(-150, 150)\n",
    "        ax.patch.set_visible(False)\n",
    "        \n",
    "    if not save:\n",
    "        plt.show()\n",
    "    else:\n",
    "        plt.savefig(f'figs/{name}.png')\n",
    "        plt.close(fig)"
   ]
  },
  {
   "cell_type": "code",
   "execution_count": 6,
   "metadata": {},
   "outputs": [],
   "source": [
    "def coluniza(a, nome):\n",
    "    d = pd.DataFrame(a).T\n",
    "    d.columns = [nome + \"_\" + str(col) for col in d.columns]\n",
    "    return d"
   ]
  },
  {
   "cell_type": "code",
   "execution_count": 7,
   "metadata": {},
   "outputs": [],
   "source": [
    "def save_to_file(objeto, nome_arquivo):\n",
    "    with open(nome_arquivo, 'wb') as output:\n",
    "        pickle.dump(objeto, output, pickle.HIGHEST_PROTOCOL)\n",
    "\n",
    "\n",
    "def load_file(nome_arquivo):\n",
    "    with open(nome_arquivo, 'rb') as input:\n",
    "        objeto = pickle.load(input)\n",
    "    return objeto"
   ]
  },
  {
   "cell_type": "code",
   "execution_count": 8,
   "metadata": {},
   "outputs": [],
   "source": [
    "def butter_bandpass(lowcut, highcut, fs, order=5):\n",
    "    nyq = 0.5 * fs\n",
    "    low = lowcut / nyq\n",
    "    high = highcut / nyq\n",
    "    b, a = butter(order, [low, high], btype='band')\n",
    "    return b, a\n",
    "\n",
    "def butter_bandpass_filter(data, lowcut, highcut, fs, order=5):\n",
    "    b, a = butter_bandpass(lowcut, highcut, fs, order=order)\n",
    "    y = lfilter(b, a, data)\n",
    "    return y"
   ]
  },
  {
   "cell_type": "code",
   "execution_count": 8,
   "metadata": {},
   "outputs": [],
   "source": [
    "folder = '../Data'"
   ]
  },
  {
   "cell_type": "code",
   "execution_count": 9,
   "metadata": {},
   "outputs": [
    {
     "name": "stdout",
     "output_type": "stream",
     "text": [
      "Full_Positives_7nov.hdf\n",
      "Full_Negatives_7nov0.hdf\n",
      "Full_Negatives_7nov2.hdf\n",
      "Full_Negatives_7nov1.hdf\n",
      "CPU times: user 19.7 s, sys: 20 s, total: 39.8 s\n",
      "Wall time: 39.5 s\n"
     ]
    }
   ],
   "source": [
    "%%time\n",
    "chunks = []\n",
    "for f in os.listdir(folder):\n",
    "    print(f)\n",
    "    if 'Full_Negatives_7nov' in f:\n",
    "        chunk = pd.read_hdf(os.path.join(folder, f))\n",
    "        chunks.append(chunk)\n",
    "neg = pd.concat(chunks, axis=0)"
   ]
  },
  {
   "cell_type": "code",
   "execution_count": 14,
   "metadata": {},
   "outputs": [],
   "source": [
    "#Esqueci do target 0 rs\n",
    "neg['Target'] = 0"
   ]
  },
  {
   "cell_type": "code",
   "execution_count": 15,
   "metadata": {},
   "outputs": [],
   "source": [
    "pos = pd.read_hdf(os.path.join(folder, \"Full_Positives_7nov.hdf\"))"
   ]
  },
  {
   "cell_type": "code",
   "execution_count": 16,
   "metadata": {},
   "outputs": [
    {
     "data": {
      "text/plain": [
       "((1540, 5), (30000, 5))"
      ]
     },
     "execution_count": 16,
     "metadata": {},
     "output_type": "execute_result"
    }
   ],
   "source": [
    "pos.shape, neg.shape"
   ]
  },
  {
   "cell_type": "code",
   "execution_count": 17,
   "metadata": {},
   "outputs": [],
   "source": [
    "#junta em um df\n",
    "df = pd.concat([neg, pos]).reset_index(drop=True)"
   ]
  },
  {
   "cell_type": "code",
   "execution_count": 18,
   "metadata": {},
   "outputs": [
    {
     "data": {
      "text/plain": [
       "0    30000\n",
       "1     1540\n",
       "Name: Target, dtype: int64"
      ]
     },
     "execution_count": 18,
     "metadata": {},
     "output_type": "execute_result"
    }
   ],
   "source": [
    "df['Target'].value_counts(dropna=False)"
   ]
  },
  {
   "cell_type": "code",
   "execution_count": 19,
   "metadata": {},
   "outputs": [
    {
     "data": {
      "text/plain": [
       "fabiana_1.edf           646\n",
       "gilmara_cristina.edf    357\n",
       "murilo_1.edf            211\n",
       "remise_jean.edf          94\n",
       "danila_ramos_4.edf       85\n",
       "sarah_jadach.edf         84\n",
       "danila_ramos.edf         56\n",
       "juliana_lima_1.edf        5\n",
       "marilene.edf              1\n",
       "juliana_lima_2.edf        1\n",
       "Name: File, dtype: int64"
      ]
     },
     "execution_count": 19,
     "metadata": {},
     "output_type": "execute_result"
    }
   ],
   "source": [
    "#janelas de crise (alguns bebes tem muito pouco, não são usados para validar)\n",
    "pos['File'].value_counts()"
   ]
  },
  {
   "cell_type": "code",
   "execution_count": 20,
   "metadata": {},
   "outputs": [
    {
     "data": {
      "text/plain": [
       "murilo_1.edf            11234\n",
       "danila_ramos_5.edf       5550\n",
       "danila_ramos_4.edf       3755\n",
       "marilene.edf             2946\n",
       "remise_jean.edf          2911\n",
       "juliana_lima_2.edf       1945\n",
       "fabiana_1.edf            1120\n",
       "gilmara_cristina.edf      784\n",
       "danila_ramos.edf          657\n",
       "juliana_lima_1.edf        503\n",
       "sarah_jadach.edf           84\n",
       "danila_ramos_3.edf         51\n",
       "Name: File, dtype: int64"
      ]
     },
     "execution_count": 20,
     "metadata": {},
     "output_type": "execute_result"
    }
   ],
   "source": [
    "#janelas de não crise\n",
    "df['File'].value_counts()"
   ]
  },
  {
   "cell_type": "markdown",
   "metadata": {},
   "source": [
    "# Testando em tudo\n",
    "Sinais de 4 canais, 6000 amostras, frequencia = 200/sec"
   ]
  },
  {
   "cell_type": "code",
   "execution_count": 21,
   "metadata": {},
   "outputs": [
    {
     "data": {
      "text/plain": [
       "Index(['EEG C3-P3', 'EEG C4-P4', 'EEG P3-P4', 'EEG A1-A2'], dtype='object')"
      ]
     },
     "execution_count": 21,
     "metadata": {},
     "output_type": "execute_result"
    }
   ],
   "source": [
    "df['Data'].values[0].columns"
   ]
  },
  {
   "cell_type": "code",
   "execution_count": 22,
   "metadata": {},
   "outputs": [],
   "source": [
    "dictStftArrayFinal = {}"
   ]
  },
  {
   "cell_type": "code",
   "execution_count": 23,
   "metadata": {},
   "outputs": [],
   "source": [
    "from tqdm import tqdm"
   ]
  },
  {
   "cell_type": "code",
   "execution_count": 24,
   "metadata": {},
   "outputs": [],
   "source": [
    "fs = 200 # Hz\n",
    "n = 5*fs # 5 seg"
   ]
  },
  {
   "cell_type": "code",
   "execution_count": 25,
   "metadata": {},
   "outputs": [
    {
     "name": "stderr",
     "output_type": "stream",
     "text": [
      "100%|██████████| 12/12 [2:26:36<00:00, 733.06s/it]  \n"
     ]
    }
   ],
   "source": [
    "for bb in tqdm(df['File'].unique()):\n",
    "\n",
    "    dataArray = None\n",
    "    targetArray = None\n",
    "    for i,row in (df[df['File'] == bb].sort_values('timestamp_start').reset_index(drop=True))[['Data','Target']].iterrows():\n",
    "\n",
    "        if i == 0:\n",
    "\n",
    "            dataArray = row['Data'].values.copy()\n",
    "\n",
    "            if row['Target'] == 0:\n",
    "                targetArray = np.zeros((row['Data'].values.shape[0]))\n",
    "            else:\n",
    "                targetArray = np.ones((row['Data'].values.shape[0]))\n",
    "\n",
    "        else:\n",
    "\n",
    "            dataArray = np.concatenate((dataArray,row['Data'].values))\n",
    "\n",
    "            if row['Target'] == 0:\n",
    "                targetArray = np.concatenate((targetArray,np.zeros((row['Data'].values.shape[0]))))\n",
    "            else:\n",
    "                targetArray = np.concatenate((targetArray,np.ones((row['Data'].values.shape[0]))))\n",
    "                \n",
    "    Arrays = []\n",
    "    Targets = []\n",
    "    # Para cada canal de eeg\n",
    "    for j in np.arange(0,dataArray.shape[1]):\n",
    "\n",
    "        array = butter_bandpass_filter(dataArray[:,j], 0.5, 75, fs, order=6)\n",
    "        subArray = [np.abs(np.fft.rfft(array[i:i + n]))/np.max(np.abs(np.fft.rfft(array[i:i + n]))) for i in range(0, len(array), n) if len(array[i:i + n]) == n]\n",
    "\n",
    "        if j == 0:\n",
    "            subTarget = [np.max(targetArray[i:i + n]) for i in range(0, len(targetArray), n) if len(targetArray[i:i + n]) == n]\n",
    "            Targets.append(subTarget)\n",
    "\n",
    "        Arrays.append(subArray)\n",
    "\n",
    "    Arrays = np.array(Arrays).swapaxes(0,1).swapaxes(1,2)\n",
    "    Targets = np.array(Targets)\n",
    "\n",
    "    ArrayFinal = []\n",
    "    TargetFinal = []\n",
    "\n",
    "    for j in np.arange(2,Arrays.shape[0]):\n",
    "\n",
    "        ArrayFinal.append(Arrays[j-2:j])\n",
    "        TargetFinal.append(Targets[0,j-1])\n",
    "\n",
    "    ArrayFinal = np.array(ArrayFinal)\n",
    "    TargetFinal= np.array(TargetFinal)\n",
    "\n",
    "    dictStftArrayFinal[bb] = { 'array' : ArrayFinal, 'target' : TargetFinal }"
   ]
  },
  {
   "cell_type": "code",
   "execution_count": null,
   "metadata": {},
   "outputs": [],
   "source": [
    "save_to_file(dictStftArrayFinal, 'dictStftArrayFinal.pkl')"
   ]
  },
  {
   "cell_type": "code",
   "execution_count": 37,
   "metadata": {},
   "outputs": [
    {
     "name": "stdout",
     "output_type": "stream",
     "text": [
      "total 5.7G\n",
      "drwxr-xr-x 3 jupyter jupyter 4.0K Dec  5 06:38 .\n",
      "drwxr-xr-x 7 jupyter jupyter 4.0K Dec  5 03:07 ..\n",
      "-rw-r--r-- 1 jupyter jupyter 5.7G Dec  5 06:37 dictStftArrayFinal.pkl\n",
      "drwxr-xr-x 2 jupyter jupyter 4.0K Dec  5 03:11 .ipynb_checkpoints\n",
      "-rw-r--r-- 1 jupyter jupyter  47K Dec  5 06:38 ML Pipe Feat Eng p Vini 5s.ipynb\n"
     ]
    }
   ],
   "source": [
    "! ls -lah"
   ]
  },
  {
   "cell_type": "markdown",
   "metadata": {},
   "source": [
    "## Model"
   ]
  },
  {
   "cell_type": "code",
   "execution_count": null,
   "metadata": {},
   "outputs": [],
   "source": [
    "del df, neg, pos"
   ]
  },
  {
   "cell_type": "code",
   "execution_count": 57,
   "metadata": {},
   "outputs": [],
   "source": [
    "del dataArray, ArrayFinal, TargetFinal, array, subArray, subTarget, targetArray"
   ]
  },
  {
   "cell_type": "code",
   "execution_count": 58,
   "metadata": {},
   "outputs": [
    {
     "data": {
      "text/plain": [
       "155"
      ]
     },
     "execution_count": 58,
     "metadata": {},
     "output_type": "execute_result"
    }
   ],
   "source": [
    "import gc\n",
    "gc.collect()"
   ]
  },
  {
   "cell_type": "markdown",
   "metadata": {},
   "source": [
    "# Neural Network"
   ]
  },
  {
   "cell_type": "code",
   "execution_count": 49,
   "metadata": {},
   "outputs": [
    {
     "data": {
      "text/plain": [
       "dict_keys(['danila_ramos.edf', 'danila_ramos_3.edf', 'danila_ramos_4.edf', 'danila_ramos_5.edf', 'fabiana_1.edf', 'murilo_1.edf', 'remise_jean.edf', 'gilmara_cristina.edf', 'juliana_lima_1.edf', 'juliana_lima_2.edf', 'marilene.edf', 'sarah_jadach.edf'])"
      ]
     },
     "execution_count": 49,
     "metadata": {},
     "output_type": "execute_result"
    }
   ],
   "source": [
    "dictStftArrayFinal.keys()"
   ]
  },
  {
   "cell_type": "code",
   "execution_count": 10,
   "metadata": {},
   "outputs": [],
   "source": [
    "dictStftArrayFinal =  load_file('dictStftArrayFinal.pkl')"
   ]
  },
  {
   "cell_type": "code",
   "execution_count": 14,
   "metadata": {},
   "outputs": [],
   "source": [
    "for i,bb in enumerate(dictStftArrayFinal.keys()):\n",
    "    \n",
    "    tgt  = dictStftArrayFinal[bb]['target']\n",
    "    \n",
    "    target = []\n",
    "    \n",
    "    for i in tgt:\n",
    "        if i == 0:\n",
    "            target.append([0,1])\n",
    "        else:\n",
    "            target.append([1,0])\n",
    "            \n",
    "    tgt = np.array(target)\n",
    "    \n",
    "    dictStftArrayFinal[bb]['target'] = tgt\n",
    "    \n",
    "    dictStftArrayFinal[bb]['array'] = dictStftArrayFinal[bb]['array'].swapaxes(1,2).swapaxes(2,3)"
   ]
  },
  {
   "cell_type": "code",
   "execution_count": 15,
   "metadata": {},
   "outputs": [],
   "source": [
    "save_to_file(dictStftArrayFinal,'dictStftArrayFinal_Better.pkl')"
   ]
  },
  {
   "cell_type": "raw",
   "metadata": {},
   "source": [
    "dictStftArrayFinal =  load_file('dictStftArrayFinal_Better.pkl')"
   ]
  },
  {
   "cell_type": "markdown",
   "metadata": {},
   "source": [
    "# Treino em Todos Menos  \"murilo_1.edf\""
   ]
  },
  {
   "cell_type": "code",
   "execution_count": 16,
   "metadata": {},
   "outputs": [],
   "source": [
    "tgt = None\n",
    "stftArrayFinal = None"
   ]
  },
  {
   "cell_type": "code",
   "execution_count": 17,
   "metadata": {},
   "outputs": [],
   "source": [
    "for i,bb in enumerate(dictStftArrayFinal.keys()):\n",
    "    \n",
    "    if bb != 'murilo_1.edf':\n",
    "    \n",
    "        if i == 0:\n",
    "            \n",
    "            tgt = dictStftArrayFinal[bb]['target'].copy()\n",
    "            stftArrayFinal = dictStftArrayFinal[bb]['array'].copy()\n",
    "            \n",
    "        else:\n",
    "            stftArrayFinal = np.concatenate((stftArrayFinal, dictStftArrayFinal[bb]['array']))\n",
    "            tgt = np.concatenate((tgt, dictStftArrayFinal[bb]['target']))"
   ]
  },
  {
   "cell_type": "code",
   "execution_count": 18,
   "metadata": {},
   "outputs": [
    {
     "data": {
      "text/plain": [
       "(121814, 501, 4, 2)"
      ]
     },
     "execution_count": 18,
     "metadata": {},
     "output_type": "execute_result"
    }
   ],
   "source": [
    "#(10816, 201, 5, 1)\n",
    "stftArrayFinal.shape"
   ]
  },
  {
   "cell_type": "code",
   "execution_count": 19,
   "metadata": {},
   "outputs": [
    {
     "data": {
      "text/plain": [
       "((501, 4, 2), 2)"
      ]
     },
     "execution_count": 19,
     "metadata": {},
     "output_type": "execute_result"
    }
   ],
   "source": [
    "#input_shape = (img_rows, img_cols, 1)\n",
    "input_shape = stftArrayFinal[0].shape\n",
    "num_classes = 2\n",
    "batch_size = 256\n",
    "epochs = 300 #600\n",
    "input_shape,num_classes"
   ]
  },
  {
   "cell_type": "code",
   "execution_count": 25,
   "metadata": {},
   "outputs": [],
   "source": [
    "# CRIANDO MODELO\n",
    "inp = tf.keras.layers.Input(shape=input_shape)\n",
    "x = tf.keras.layers.Conv2D(32*5, kernel_size=(4,1), strides=(2, 1))(inp)\n",
    "x = tf.keras.layers.Activation('relu')(x)\n",
    "x = tf.keras.layers.AveragePooling2D(pool_size=(4,1))(x)\n",
    "x = tf.keras.layers.Dropout(rate=0.25)(x)\n",
    "x = tf.keras.layers.Conv2D(32*10, kernel_size=(4,4), strides=(1, 1))(x)\n",
    "x = tf.keras.layers.Activation('relu')(x)\n",
    "x = tf.keras.layers.Dropout(rate=0.25)(x)\n",
    "x = tf.keras.layers.Flatten()(x)\n",
    "x = tf.keras.layers.Dense(1024, activation='relu')(x)\n",
    "x = tf.keras.layers.BatchNormalization()(x)\n",
    "x = tf.keras.layers.Dropout(rate=0.25)(x)\n",
    "x = tf.keras.layers.Dense(512, activation='relu')(x)\n",
    "x = tf.keras.layers.BatchNormalization()(x)\n",
    "x = tf.keras.layers.Dropout(rate=0.25)(x)\n",
    "x = tf.keras.layers.Dense(128, activation='relu')(x)\n",
    "x = tf.keras.layers.BatchNormalization()(x)\n",
    "x = tf.keras.layers.Dropout(rate=0.25)(x)\n",
    "x = tf.keras.layers.Dense(64, activation='relu')(x)\n",
    "x = tf.keras.layers.BatchNormalization()(x)\n",
    "x = tf.keras.layers.Dropout(rate=0.25)(x)\n",
    "x = tf.keras.layers.Dense(16, activation='relu')(x)\n",
    "x = tf.keras.layers.BatchNormalization()(x)\n",
    "x = tf.keras.layers.Dropout(rate=0.25)(x)\n",
    "#\n",
    "#\n",
    "#\n",
    "eeg = tf.keras.layers.Dense(num_classes,activation='softmax',name='output')(x)\n",
    "\n",
    "model = tf.keras.models.Model(inputs=inp,outputs=[eeg])"
   ]
  },
  {
   "cell_type": "code",
   "execution_count": 26,
   "metadata": {},
   "outputs": [
    {
     "name": "stdout",
     "output_type": "stream",
     "text": [
      "Model: \"functional_3\"\n",
      "_________________________________________________________________\n",
      "Layer (type)                 Output Shape              Param #   \n",
      "=================================================================\n",
      "input_5 (InputLayer)         [(None, 501, 4, 2)]       0         \n",
      "_________________________________________________________________\n",
      "conv2d_5 (Conv2D)            (None, 249, 4, 160)       1440      \n",
      "_________________________________________________________________\n",
      "activation_4 (Activation)    (None, 249, 4, 160)       0         \n",
      "_________________________________________________________________\n",
      "average_pooling2d_3 (Average (None, 62, 4, 160)        0         \n",
      "_________________________________________________________________\n",
      "dropout_7 (Dropout)          (None, 62, 4, 160)        0         \n",
      "_________________________________________________________________\n",
      "conv2d_6 (Conv2D)            (None, 59, 1, 320)        819520    \n",
      "_________________________________________________________________\n",
      "activation_5 (Activation)    (None, 59, 1, 320)        0         \n",
      "_________________________________________________________________\n",
      "dropout_8 (Dropout)          (None, 59, 1, 320)        0         \n",
      "_________________________________________________________________\n",
      "flatten_1 (Flatten)          (None, 18880)             0         \n",
      "_________________________________________________________________\n",
      "dense_5 (Dense)              (None, 1024)              19334144  \n",
      "_________________________________________________________________\n",
      "batch_normalization_5 (Batch (None, 1024)              4096      \n",
      "_________________________________________________________________\n",
      "dropout_9 (Dropout)          (None, 1024)              0         \n",
      "_________________________________________________________________\n",
      "dense_6 (Dense)              (None, 512)               524800    \n",
      "_________________________________________________________________\n",
      "batch_normalization_6 (Batch (None, 512)               2048      \n",
      "_________________________________________________________________\n",
      "dropout_10 (Dropout)         (None, 512)               0         \n",
      "_________________________________________________________________\n",
      "dense_7 (Dense)              (None, 128)               65664     \n",
      "_________________________________________________________________\n",
      "batch_normalization_7 (Batch (None, 128)               512       \n",
      "_________________________________________________________________\n",
      "dropout_11 (Dropout)         (None, 128)               0         \n",
      "_________________________________________________________________\n",
      "dense_8 (Dense)              (None, 64)                8256      \n",
      "_________________________________________________________________\n",
      "batch_normalization_8 (Batch (None, 64)                256       \n",
      "_________________________________________________________________\n",
      "dropout_12 (Dropout)         (None, 64)                0         \n",
      "_________________________________________________________________\n",
      "dense_9 (Dense)              (None, 16)                1040      \n",
      "_________________________________________________________________\n",
      "batch_normalization_9 (Batch (None, 16)                64        \n",
      "_________________________________________________________________\n",
      "dropout_13 (Dropout)         (None, 16)                0         \n",
      "_________________________________________________________________\n",
      "output (Dense)               (None, 2)                 34        \n",
      "=================================================================\n",
      "Total params: 20,761,874\n",
      "Trainable params: 20,758,386\n",
      "Non-trainable params: 3,488\n",
      "_________________________________________________________________\n"
     ]
    }
   ],
   "source": [
    "model.summary()"
   ]
  },
  {
   "cell_type": "code",
   "execution_count": 27,
   "metadata": {},
   "outputs": [],
   "source": [
    "model.compile(loss=\"categorical_crossentropy\",\n",
    "              optimizer='adam',\n",
    "              metrics=[ 'AUC'])"
   ]
  },
  {
   "cell_type": "code",
   "execution_count": 28,
   "metadata": {
    "scrolled": true
   },
   "outputs": [
    {
     "name": "stdout",
     "output_type": "stream",
     "text": [
      "Epoch 1/300\n",
      "476/476 [==============================] - 106s 223ms/step - loss: 0.3226 - auc: 0.9401 - val_loss: 0.0713 - val_auc: 0.9974\n",
      "Epoch 2/300\n",
      "476/476 [==============================] - 105s 220ms/step - loss: 0.0981 - auc: 0.9925 - val_loss: 0.4106 - val_auc: 0.9266\n",
      "Epoch 3/300\n",
      "476/476 [==============================] - 105s 221ms/step - loss: 0.0776 - auc: 0.9955 - val_loss: 0.0542 - val_auc: 0.9974\n",
      "Epoch 4/300\n",
      "476/476 [==============================] - 104s 219ms/step - loss: 0.0673 - auc: 0.9965 - val_loss: 0.0620 - val_auc: 0.9973\n",
      "Epoch 5/300\n",
      "476/476 [==============================] - 105s 220ms/step - loss: 0.0593 - auc: 0.9972 - val_loss: 0.0490 - val_auc: 0.9977\n",
      "Epoch 6/300\n",
      "476/476 [==============================] - 104s 219ms/step - loss: 0.0527 - auc: 0.9978 - val_loss: 0.0601 - val_auc: 0.9955\n",
      "Epoch 7/300\n",
      "476/476 [==============================] - 104s 219ms/step - loss: 0.0479 - auc: 0.9980 - val_loss: 0.0709 - val_auc: 0.9946\n",
      "Epoch 8/300\n",
      "476/476 [==============================] - 104s 219ms/step - loss: 0.0429 - auc: 0.9984 - val_loss: 0.1003 - val_auc: 0.9907\n",
      "Epoch 9/300\n",
      "476/476 [==============================] - 104s 218ms/step - loss: 0.0400 - auc: 0.9986 - val_loss: 0.0783 - val_auc: 0.9930\n",
      "Epoch 10/300\n",
      "476/476 [==============================] - 104s 219ms/step - loss: 0.0366 - auc: 0.9988 - val_loss: 0.1453 - val_auc: 0.9850\n",
      "Epoch 11/300\n",
      "476/476 [==============================] - 104s 218ms/step - loss: 0.0345 - auc: 0.9989 - val_loss: 0.1372 - val_auc: 0.9872\n",
      "Epoch 12/300\n",
      "476/476 [==============================] - 104s 218ms/step - loss: 0.0335 - auc: 0.9989 - val_loss: 0.1364 - val_auc: 0.9868\n",
      "Epoch 13/300\n",
      "476/476 [==============================] - 104s 218ms/step - loss: 0.0315 - auc: 0.9990 - val_loss: 0.1642 - val_auc: 0.9834\n",
      "Epoch 14/300\n",
      "476/476 [==============================] - 104s 218ms/step - loss: 0.0290 - auc: 0.9992 - val_loss: 0.1946 - val_auc: 0.9842\n",
      "Epoch 15/300\n",
      "476/476 [==============================] - 104s 218ms/step - loss: 0.0276 - auc: 0.9992 - val_loss: 0.1899 - val_auc: 0.9829\n"
     ]
    },
    {
     "data": {
      "text/plain": [
       "<tensorflow.python.keras.callbacks.History at 0x7f9c3c33bb90>"
      ]
     },
     "execution_count": 28,
     "metadata": {},
     "output_type": "execute_result"
    }
   ],
   "source": [
    "earlyStopping = tf.keras.callbacks.EarlyStopping(monitor='val_loss', patience=10,verbose=0, mode='min')\n",
    "mcp_save = tf.keras.callbacks.ModelCheckpoint('bestAutoSave_murilo.hdf5', save_best_only=True, monitor='val_loss', mode='auto')\n",
    "#reduce_lr_loss = tf.keras.callbacks.ReduceLROnPlateau(monitor='val_loss', factor=0.1, patience=5, verbose=0, min_delta=1e-4, mode='auto')\n",
    "\n",
    "model.fit(\n",
    "    stftArrayFinal, tgt,\n",
    "    batch_size=batch_size,\n",
    "    epochs=epochs,\n",
    "    shuffle = True,\n",
    "    validation_data=(dictStftArrayFinal['murilo_1.edf']['array'], dictStftArrayFinal['murilo_1.edf']['target']),\n",
    "    callbacks=[mcp_save, earlyStopping],\n",
    "    verbose=1\n",
    ")"
   ]
  },
  {
   "cell_type": "code",
   "execution_count": 29,
   "metadata": {},
   "outputs": [],
   "source": [
    "model.save_weights(\"./modelo_murilo.hdf5\")"
   ]
  },
  {
   "cell_type": "code",
   "execution_count": 30,
   "metadata": {},
   "outputs": [],
   "source": [
    "model.load_weights('./bestAutoSave_murilo.hdf5')"
   ]
  },
  {
   "cell_type": "code",
   "execution_count": 31,
   "metadata": {},
   "outputs": [],
   "source": [
    "y_pred = model.predict(dictStftArrayFinal['murilo_1.edf']['array'])"
   ]
  },
  {
   "cell_type": "code",
   "execution_count": 32,
   "metadata": {},
   "outputs": [
    {
     "data": {
      "image/png": "[encoded data removed]",
      "text/plain": [
       "<Figure size 576x576 with 1 Axes>"
      ]
     },
     "metadata": {
      "needs_background": "light"
     },
     "output_type": "display_data"
    }
   ],
   "source": [
    "cria_curva_roc_auc(model,dictStftArrayFinal['murilo_1.edf']['array'],dictStftArrayFinal['murilo_1.edf']['target'][:,1])"
   ]
  },
  {
   "cell_type": "code",
   "execution_count": 33,
   "metadata": {},
   "outputs": [
    {
     "name": "stdout",
     "output_type": "stream",
     "text": [
      "Limiar que maxima especificidade e sensitividade:\n",
      "[0.9896055459976196]\n",
      "Precision 0.9979431094165454\n",
      "Recall 0.9023224869964921\n",
      "Acuracia 0.9023322750066763\n",
      "F-Score 0.947727002024854\n",
      "Roc-AUC 0.96726381570763\n"
     ]
    }
   ],
   "source": [
    "limiar_escore(model,dictStftArrayFinal['murilo_1.edf']['array'],dictStftArrayFinal['murilo_1.edf']['target'][:,1])"
   ]
  },
  {
   "cell_type": "code",
   "execution_count": 34,
   "metadata": {},
   "outputs": [
    {
     "data": {
      "text/plain": [
       "array([[  119,  1147],\n",
       "       [   74, 66062]])"
      ]
     },
     "execution_count": 34,
     "metadata": {},
     "output_type": "execute_result"
    }
   ],
   "source": [
    "confusion_matrix(dictStftArrayFinal['murilo_1.edf']['target'][:,1], [1 if x >= 0.1 else 0 for x in y_pred[:,1]])"
   ]
  },
  {
   "cell_type": "markdown",
   "metadata": {},
   "source": [
    "# Treino em Todos Menos  \"remise_jean.edf\""
   ]
  },
  {
   "cell_type": "code",
   "execution_count": 35,
   "metadata": {},
   "outputs": [],
   "source": [
    "tgt = None\n",
    "stftArrayFinal = None"
   ]
  },
  {
   "cell_type": "code",
   "execution_count": 36,
   "metadata": {},
   "outputs": [],
   "source": [
    "for i,bb in enumerate(dictStftArrayFinal.keys()):\n",
    "    \n",
    "    if bb != 'remise_jean.edf':\n",
    "    \n",
    "        if i == 0:\n",
    "            \n",
    "            tgt = dictStftArrayFinal[bb]['target'].copy()\n",
    "            stftArrayFinal = dictStftArrayFinal[bb]['array'].copy()\n",
    "            \n",
    "        else:\n",
    "            stftArrayFinal = np.concatenate((stftArrayFinal, dictStftArrayFinal[bb]['array']))\n",
    "            tgt = np.concatenate((tgt, dictStftArrayFinal[bb]['target']))"
   ]
  },
  {
   "cell_type": "code",
   "execution_count": 37,
   "metadata": {},
   "outputs": [
    {
     "data": {
      "text/plain": [
       "(171752, 501, 4, 2)"
      ]
     },
     "execution_count": 37,
     "metadata": {},
     "output_type": "execute_result"
    }
   ],
   "source": [
    "#(10816, 201, 5, 1)\n",
    "stftArrayFinal.shape"
   ]
  },
  {
   "cell_type": "code",
   "execution_count": 38,
   "metadata": {},
   "outputs": [
    {
     "data": {
      "text/plain": [
       "((501, 4, 2), 2)"
      ]
     },
     "execution_count": 38,
     "metadata": {},
     "output_type": "execute_result"
    }
   ],
   "source": [
    "#input_shape = (img_rows, img_cols, 1)\n",
    "input_shape = stftArrayFinal[0].shape\n",
    "num_classes = 2\n",
    "batch_size = 256\n",
    "epochs = 300 #600\n",
    "input_shape,num_classes"
   ]
  },
  {
   "cell_type": "code",
   "execution_count": 39,
   "metadata": {},
   "outputs": [],
   "source": [
    "# CRIANDO MODELO\n",
    "inp = tf.keras.layers.Input(shape=input_shape)\n",
    "x = tf.keras.layers.Conv2D(32*5, kernel_size=(4,1), strides=(2, 1))(inp)\n",
    "x = tf.keras.layers.Activation('relu')(x)\n",
    "x = tf.keras.layers.AveragePooling2D(pool_size=(4,1))(x)\n",
    "x = tf.keras.layers.Dropout(rate=0.25)(x)\n",
    "x = tf.keras.layers.Conv2D(32*10, kernel_size=(4,4), strides=(1, 1))(x)\n",
    "x = tf.keras.layers.Activation('relu')(x)\n",
    "x = tf.keras.layers.Dropout(rate=0.25)(x)\n",
    "x = tf.keras.layers.Flatten()(x)\n",
    "x = tf.keras.layers.Dense(1024, activation='relu')(x)\n",
    "x = tf.keras.layers.BatchNormalization()(x)\n",
    "x = tf.keras.layers.Dropout(rate=0.25)(x)\n",
    "x = tf.keras.layers.Dense(512, activation='relu')(x)\n",
    "x = tf.keras.layers.BatchNormalization()(x)\n",
    "x = tf.keras.layers.Dropout(rate=0.25)(x)\n",
    "x = tf.keras.layers.Dense(128, activation='relu')(x)\n",
    "x = tf.keras.layers.BatchNormalization()(x)\n",
    "x = tf.keras.layers.Dropout(rate=0.25)(x)\n",
    "x = tf.keras.layers.Dense(64, activation='relu')(x)\n",
    "x = tf.keras.layers.BatchNormalization()(x)\n",
    "x = tf.keras.layers.Dropout(rate=0.25)(x)\n",
    "x = tf.keras.layers.Dense(16, activation='relu')(x)\n",
    "x = tf.keras.layers.BatchNormalization()(x)\n",
    "x = tf.keras.layers.Dropout(rate=0.25)(x)\n",
    "#\n",
    "#\n",
    "#\n",
    "eeg = tf.keras.layers.Dense(num_classes,activation='softmax',name='output')(x)\n",
    "\n",
    "model = tf.keras.models.Model(inputs=inp,outputs=[eeg])"
   ]
  },
  {
   "cell_type": "code",
   "execution_count": 40,
   "metadata": {},
   "outputs": [
    {
     "name": "stdout",
     "output_type": "stream",
     "text": [
      "Model: \"functional_5\"\n",
      "_________________________________________________________________\n",
      "Layer (type)                 Output Shape              Param #   \n",
      "=================================================================\n",
      "input_6 (InputLayer)         [(None, 501, 4, 2)]       0         \n",
      "_________________________________________________________________\n",
      "conv2d_7 (Conv2D)            (None, 249, 4, 160)       1440      \n",
      "_________________________________________________________________\n",
      "activation_6 (Activation)    (None, 249, 4, 160)       0         \n",
      "_________________________________________________________________\n",
      "average_pooling2d_4 (Average (None, 62, 4, 160)        0         \n",
      "_________________________________________________________________\n",
      "dropout_14 (Dropout)         (None, 62, 4, 160)        0         \n",
      "_________________________________________________________________\n",
      "conv2d_8 (Conv2D)            (None, 59, 1, 320)        819520    \n",
      "_________________________________________________________________\n",
      "activation_7 (Activation)    (None, 59, 1, 320)        0         \n",
      "_________________________________________________________________\n",
      "dropout_15 (Dropout)         (None, 59, 1, 320)        0         \n",
      "_________________________________________________________________\n",
      "flatten_2 (Flatten)          (None, 18880)             0         \n",
      "_________________________________________________________________\n",
      "dense_10 (Dense)             (None, 1024)              19334144  \n",
      "_________________________________________________________________\n",
      "batch_normalization_10 (Batc (None, 1024)              4096      \n",
      "_________________________________________________________________\n",
      "dropout_16 (Dropout)         (None, 1024)              0         \n",
      "_________________________________________________________________\n",
      "dense_11 (Dense)             (None, 512)               524800    \n",
      "_________________________________________________________________\n",
      "batch_normalization_11 (Batc (None, 512)               2048      \n",
      "_________________________________________________________________\n",
      "dropout_17 (Dropout)         (None, 512)               0         \n",
      "_________________________________________________________________\n",
      "dense_12 (Dense)             (None, 128)               65664     \n",
      "_________________________________________________________________\n",
      "batch_normalization_12 (Batc (None, 128)               512       \n",
      "_________________________________________________________________\n",
      "dropout_18 (Dropout)         (None, 128)               0         \n",
      "_________________________________________________________________\n",
      "dense_13 (Dense)             (None, 64)                8256      \n",
      "_________________________________________________________________\n",
      "batch_normalization_13 (Batc (None, 64)                256       \n",
      "_________________________________________________________________\n",
      "dropout_19 (Dropout)         (None, 64)                0         \n",
      "_________________________________________________________________\n",
      "dense_14 (Dense)             (None, 16)                1040      \n",
      "_________________________________________________________________\n",
      "batch_normalization_14 (Batc (None, 16)                64        \n",
      "_________________________________________________________________\n",
      "dropout_20 (Dropout)         (None, 16)                0         \n",
      "_________________________________________________________________\n",
      "output (Dense)               (None, 2)                 34        \n",
      "=================================================================\n",
      "Total params: 20,761,874\n",
      "Trainable params: 20,758,386\n",
      "Non-trainable params: 3,488\n",
      "_________________________________________________________________\n"
     ]
    }
   ],
   "source": [
    "model.summary()"
   ]
  },
  {
   "cell_type": "code",
   "execution_count": 41,
   "metadata": {},
   "outputs": [],
   "source": [
    "model.compile(loss=\"categorical_crossentropy\",\n",
    "              optimizer='adam',\n",
    "              metrics=['AUC'])"
   ]
  },
  {
   "cell_type": "code",
   "execution_count": 42,
   "metadata": {
    "scrolled": true
   },
   "outputs": [
    {
     "name": "stdout",
     "output_type": "stream",
     "text": [
      "Epoch 1/300\n",
      "671/671 [==============================] - 117s 174ms/step - loss: 0.2473 - accuracy: 0.9060 - auc: 0.9647 - val_loss: 0.1296 - val_accuracy: 0.9694 - val_auc: 0.9920\n",
      "Epoch 2/300\n",
      "671/671 [==============================] - 114s 170ms/step - loss: 0.0610 - accuracy: 0.9791 - auc: 0.9971 - val_loss: 0.1676 - val_accuracy: 0.9694 - val_auc: 0.9901\n",
      "Epoch 3/300\n",
      "671/671 [==============================] - 114s 170ms/step - loss: 0.0475 - accuracy: 0.9827 - auc: 0.9981 - val_loss: 0.4029 - val_accuracy: 0.8118 - val_auc: 0.8960\n",
      "Epoch 4/300\n",
      "671/671 [==============================] - 114s 170ms/step - loss: 0.0425 - accuracy: 0.9841 - auc: 0.9984 - val_loss: 0.5467 - val_accuracy: 0.7247 - val_auc: 0.8146\n",
      "Epoch 5/300\n",
      "671/671 [==============================] - 114s 170ms/step - loss: 0.0387 - accuracy: 0.9855 - auc: 0.9986 - val_loss: 1.7309 - val_accuracy: 0.3072 - val_auc: 0.3034\n",
      "Epoch 6/300\n",
      "671/671 [==============================] - 114s 170ms/step - loss: 0.0361 - accuracy: 0.9861 - auc: 0.9988 - val_loss: 1.0723 - val_accuracy: 0.4844 - val_auc: 0.5118\n"
     ]
    },
    {
     "data": {
      "text/plain": [
       "<tensorflow.python.keras.callbacks.History at 0x7f9cf43e7e10>"
      ]
     },
     "execution_count": 42,
     "metadata": {},
     "output_type": "execute_result"
    }
   ],
   "source": [
    "earlyStopping = tf.keras.callbacks.EarlyStopping(monitor='val_loss', patience=5,verbose=0, mode='min')\n",
    "mcp_save = tf.keras.callbacks.ModelCheckpoint('bestAutoSave_remise.hdf5', save_best_only=True, monitor='val_loss', mode='auto')\n",
    "#reduce_lr_loss = tf.keras.callbacks.ReduceLROnPlateau(monitor='val_loss', factor=0.1, patience=5, verbose=0, min_delta=1e-4, mode='auto')\n",
    "\n",
    "model.fit(\n",
    "    stftArrayFinal, tgt,\n",
    "    batch_size=batch_size,\n",
    "    epochs=epochs,\n",
    "    shuffle = True,\n",
    "    validation_data=(dictStftArrayFinal['remise_jean.edf']['array'], dictStftArrayFinal['remise_jean.edf']['target']),\n",
    "    callbacks=[mcp_save, earlyStopping],\n",
    "    verbose=1\n",
    ")"
   ]
  },
  {
   "cell_type": "code",
   "execution_count": 43,
   "metadata": {},
   "outputs": [],
   "source": [
    "model.save_weights(\"./modelo_remise.hdf5\")"
   ]
  },
  {
   "cell_type": "code",
   "execution_count": 44,
   "metadata": {},
   "outputs": [],
   "source": [
    "model.load_weights('./bestAutoSave_remise.hdf5')"
   ]
  },
  {
   "cell_type": "code",
   "execution_count": 45,
   "metadata": {},
   "outputs": [
    {
     "data": {
      "image/png": "[encoded data removed]",
      "text/plain": [
       "<Figure size 576x576 with 1 Axes>"
      ]
     },
     "metadata": {
      "needs_background": "light"
     },
     "output_type": "display_data"
    }
   ],
   "source": [
    "cria_curva_roc_auc(model,dictStftArrayFinal['remise_jean.edf']['array'],dictStftArrayFinal['remise_jean.edf']['target'][:,1])"
   ]
  },
  {
   "cell_type": "code",
   "execution_count": 46,
   "metadata": {},
   "outputs": [
    {
     "name": "stdout",
     "output_type": "stream",
     "text": [
      "Limiar que maxima especificidade e sensitividade:\n",
      "[0.8851548433303833]\n",
      "Precision 0.9932994780646072\n",
      "Recall 0.8333136094674556\n",
      "Acuracia 0.8332569857993587\n",
      "F-Score 0.9063002767230839\n",
      "Roc-AUC 0.9019492530110369\n"
     ]
    }
   ],
   "source": [
    "limiar_escore(model,dictStftArrayFinal['remise_jean.edf']['array'],dictStftArrayFinal['remise_jean.edf']['target'][:,1])"
   ]
  },
  {
   "cell_type": "code",
   "execution_count": 47,
   "metadata": {},
   "outputs": [],
   "source": [
    "y_pred = model.predict(dictStftArrayFinal['remise_jean.edf']['array'])"
   ]
  },
  {
   "cell_type": "code",
   "execution_count": 48,
   "metadata": {},
   "outputs": [
    {
     "data": {
      "text/plain": [
       "array([[  127,   437],\n",
       "       [    7, 16893]])"
      ]
     },
     "execution_count": 48,
     "metadata": {},
     "output_type": "execute_result"
    }
   ],
   "source": [
    "confusion_matrix(dictStftArrayFinal['remise_jean.edf']['target'][:,1], [1 if x >= 0.08519119024276733 else 0 for x in y_pred[:,1]])"
   ]
  },
  {
   "cell_type": "code",
   "execution_count": 49,
   "metadata": {},
   "outputs": [
    {
     "data": {
      "text/plain": [
       "1    16900\n",
       "0      564\n",
       "Name: 1, dtype: int64"
      ]
     },
     "execution_count": 49,
     "metadata": {},
     "output_type": "execute_result"
    }
   ],
   "source": [
    "pd.DataFrame(dictStftArrayFinal['remise_jean.edf']['target'])[1].value_counts()"
   ]
  },
  {
   "cell_type": "markdown",
   "metadata": {},
   "source": [
    "FIM"
   ]
  }
 ],
 "metadata": {
  "environment": {
   "name": "tf2-2-3-gpu.2-3.m58",
   "type": "gcloud",
   "uri": "gcr.io/deeplearning-platform-release/tf2-2-3-gpu.2-3:m58"
  },
  "kernelspec": {
   "display_name": "Python 3",
   "language": "python",
   "name": "python3"
  },
  "language_info": {
   "codemirror_mode": {
    "name": "ipython",
    "version": 3
   },
   "file_extension": ".py",
   "mimetype": "text/x-python",
   "name": "python",
   "nbconvert_exporter": "python",
   "pygments_lexer": "ipython3",
   "version": "3.7.8"
  }
 },
 "nbformat": 4,
 "nbformat_minor": 4
}
